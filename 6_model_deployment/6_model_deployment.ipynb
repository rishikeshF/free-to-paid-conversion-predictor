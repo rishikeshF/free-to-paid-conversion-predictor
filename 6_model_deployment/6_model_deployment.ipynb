{
 "cells": [
  {
   "cell_type": "markdown",
   "id": "2aadd557",
   "metadata": {},
   "source": [
    "### 6. Model Deployment"
   ]
  },
  {
   "cell_type": "code",
   "execution_count": 5,
   "id": "29bba1da",
   "metadata": {},
   "outputs": [],
   "source": [
    "import pandas as pd\n",
    "import numpy as np\n",
    "import pickle\n",
    "from sklearn.preprocessing import StandardScaler"
   ]
  },
  {
   "cell_type": "markdown",
   "id": "9817f855",
   "metadata": {},
   "source": [
    "#### 6.1 Pipeline for data featurization"
   ]
  },
  {
   "cell_type": "code",
   "execution_count": 79,
   "id": "1551856a",
   "metadata": {},
   "outputs": [],
   "source": [
    "df = pd.read_csv('preprocessed_dataframe.csv')\n",
    "df.date_registered = pd.to_datetime(df['date_registered'])\n",
    "\n",
    "country_count_dict = df.student_country.value_counts().to_dict()\n",
    "df.student_country = df.student_country.apply(lambda x : country_count_dict[x])\n",
    "\n",
    "# save the coutry_dict so that it can be used in production for featurization\n",
    "#with open('country_dict.pickle', 'wb') as f:\n",
    "#    pickle.dump(country_count_dict,f)\n",
    "d = pickle.load(open('country_dict.pickle','rb'))\n",
    "\n",
    "# use standardiazation to scale the feature values\n",
    "scaler = StandardScaler()\n",
    "standard_columns = ['student_country', 'total_time_watched']\n",
    "\n",
    "#df.student_country = df['student_country'].apply(lambda x : d[x])\n",
    "scaler.fit(df[standard_columns])\n",
    "#pickle.dump(scaler, open('standardScaler.pickle', 'wb'))\n",
    "\n",
    "\n",
    "# final featurization function\n",
    "def featurize(time, country, scaler, country_dict):\n",
    "    arr = np.array([d[country], time]).reshape(1,-1)\n",
    "    vector = scaler.transform(arr)\n",
    "    return vector"
   ]
  },
  {
   "cell_type": "markdown",
   "id": "8945ceab",
   "metadata": {},
   "source": [
    "#### 6.2 Making prediction for single sample"
   ]
  },
  {
   "cell_type": "code",
   "execution_count": 71,
   "id": "f11e2cc2",
   "metadata": {},
   "outputs": [
    {
     "name": "stdout",
     "output_type": "stream",
     "text": [
      "1\n",
      "0.9359769508173813\n"
     ]
    },
    {
     "name": "stderr",
     "output_type": "stream",
     "text": [
      "D:\\Anaconda\\anacondaa\\lib\\site-packages\\sklearn\\base.py:450: UserWarning: X does not have valid feature names, but StandardScaler was fitted with feature names\n",
      "  warnings.warn(\n",
      "D:\\Anaconda\\anacondaa\\lib\\site-packages\\sklearn\\base.py:450: UserWarning: X does not have valid feature names, but KNeighborsClassifier was fitted with feature names\n",
      "  warnings.warn(\n",
      "D:\\Anaconda\\anacondaa\\lib\\site-packages\\sklearn\\base.py:450: UserWarning: X does not have valid feature names, but KNeighborsClassifier was fitted with feature names\n",
      "  warnings.warn(\n"
     ]
    }
   ],
   "source": [
    "# save the model to disk\n",
    "filename = 'random_forest_model.sav'\n",
    "model = pickle.load(open(filename, 'rb'))\n",
    "\n",
    "time,country = 100, 'IN'\n",
    "vec = featurize(time, country, scaler,d )\n",
    "print(model.predict(vec)[0])\n",
    "print(model.predict_proba(vec)[0][1])"
   ]
  }
 ],
 "metadata": {
  "kernelspec": {
   "display_name": "Python 3 (ipykernel)",
   "language": "python",
   "name": "python3"
  },
  "language_info": {
   "codemirror_mode": {
    "name": "ipython",
    "version": 3
   },
   "file_extension": ".py",
   "mimetype": "text/x-python",
   "name": "python",
   "nbconvert_exporter": "python",
   "pygments_lexer": "ipython3",
   "version": "3.9.13"
  }
 },
 "nbformat": 4,
 "nbformat_minor": 5
}
