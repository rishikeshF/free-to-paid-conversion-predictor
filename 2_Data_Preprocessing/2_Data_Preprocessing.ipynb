{
 "cells": [
  {
   "cell_type": "code",
   "execution_count": 1,
   "id": "6a53ce34",
   "metadata": {},
   "outputs": [],
   "source": [
    "import pandas as pd\n",
    "import numpy as np\n",
    "from datetime import datetime\n",
    "import seaborn as sns"
   ]
  },
  {
   "cell_type": "code",
   "execution_count": 2,
   "id": "ccb16014",
   "metadata": {},
   "outputs": [
    {
     "data": {
      "text/html": [
       "<div>\n",
       "<style scoped>\n",
       "    .dataframe tbody tr th:only-of-type {\n",
       "        vertical-align: middle;\n",
       "    }\n",
       "\n",
       "    .dataframe tbody tr th {\n",
       "        vertical-align: top;\n",
       "    }\n",
       "\n",
       "    .dataframe thead th {\n",
       "        text-align: right;\n",
       "    }\n",
       "</style>\n",
       "<table border=\"1\" class=\"dataframe\">\n",
       "  <thead>\n",
       "    <tr style=\"text-align: right;\">\n",
       "      <th></th>\n",
       "      <th>student_id</th>\n",
       "      <th>student_country</th>\n",
       "      <th>date_registered</th>\n",
       "      <th>purchase_id</th>\n",
       "      <th>purchase_type</th>\n",
       "      <th>date_purchased</th>\n",
       "      <th>days_taken</th>\n",
       "      <th>num_rated_courses</th>\n",
       "      <th>avg_rated_courses</th>\n",
       "      <th>avg_course_watched</th>\n",
       "      <th>total_time_watched</th>\n",
       "      <th>engagement_quizzes</th>\n",
       "      <th>engagement_exams</th>\n",
       "      <th>engagement_lessons</th>\n",
       "      <th>avg_exam_score</th>\n",
       "      <th>no_of_questions</th>\n",
       "    </tr>\n",
       "  </thead>\n",
       "  <tbody>\n",
       "    <tr>\n",
       "      <th>0</th>\n",
       "      <td>258798</td>\n",
       "      <td>IN</td>\n",
       "      <td>2022-01-01</td>\n",
       "      <td>NaN</td>\n",
       "      <td>NaN</td>\n",
       "      <td>NaN</td>\n",
       "      <td>NaN</td>\n",
       "      <td>NaN</td>\n",
       "      <td>NaN</td>\n",
       "      <td>0.3</td>\n",
       "      <td>0.3</td>\n",
       "      <td>0.0</td>\n",
       "      <td>0.0</td>\n",
       "      <td>1.0</td>\n",
       "      <td>NaN</td>\n",
       "      <td>NaN</td>\n",
       "    </tr>\n",
       "    <tr>\n",
       "      <th>1</th>\n",
       "      <td>258799</td>\n",
       "      <td>CO</td>\n",
       "      <td>2022-01-01</td>\n",
       "      <td>NaN</td>\n",
       "      <td>NaN</td>\n",
       "      <td>NaN</td>\n",
       "      <td>NaN</td>\n",
       "      <td>NaN</td>\n",
       "      <td>NaN</td>\n",
       "      <td>NaN</td>\n",
       "      <td>NaN</td>\n",
       "      <td>NaN</td>\n",
       "      <td>NaN</td>\n",
       "      <td>NaN</td>\n",
       "      <td>NaN</td>\n",
       "      <td>NaN</td>\n",
       "    </tr>\n",
       "    <tr>\n",
       "      <th>2</th>\n",
       "      <td>258801</td>\n",
       "      <td>IN</td>\n",
       "      <td>2022-01-01</td>\n",
       "      <td>NaN</td>\n",
       "      <td>NaN</td>\n",
       "      <td>NaN</td>\n",
       "      <td>NaN</td>\n",
       "      <td>NaN</td>\n",
       "      <td>NaN</td>\n",
       "      <td>NaN</td>\n",
       "      <td>NaN</td>\n",
       "      <td>NaN</td>\n",
       "      <td>NaN</td>\n",
       "      <td>NaN</td>\n",
       "      <td>NaN</td>\n",
       "      <td>NaN</td>\n",
       "    </tr>\n",
       "    <tr>\n",
       "      <th>3</th>\n",
       "      <td>258802</td>\n",
       "      <td>US</td>\n",
       "      <td>2022-01-01</td>\n",
       "      <td>NaN</td>\n",
       "      <td>NaN</td>\n",
       "      <td>NaN</td>\n",
       "      <td>NaN</td>\n",
       "      <td>NaN</td>\n",
       "      <td>NaN</td>\n",
       "      <td>NaN</td>\n",
       "      <td>NaN</td>\n",
       "      <td>NaN</td>\n",
       "      <td>NaN</td>\n",
       "      <td>NaN</td>\n",
       "      <td>NaN</td>\n",
       "      <td>NaN</td>\n",
       "    </tr>\n",
       "    <tr>\n",
       "      <th>4</th>\n",
       "      <td>258804</td>\n",
       "      <td>BD</td>\n",
       "      <td>2022-01-01</td>\n",
       "      <td>NaN</td>\n",
       "      <td>NaN</td>\n",
       "      <td>NaN</td>\n",
       "      <td>NaN</td>\n",
       "      <td>NaN</td>\n",
       "      <td>NaN</td>\n",
       "      <td>14.2</td>\n",
       "      <td>14.2</td>\n",
       "      <td>1.0</td>\n",
       "      <td>0.0</td>\n",
       "      <td>1.0</td>\n",
       "      <td>NaN</td>\n",
       "      <td>NaN</td>\n",
       "    </tr>\n",
       "  </tbody>\n",
       "</table>\n",
       "</div>"
      ],
      "text/plain": [
       "   student_id student_country date_registered  purchase_id purchase_type  \\\n",
       "0      258798              IN      2022-01-01          NaN           NaN   \n",
       "1      258799              CO      2022-01-01          NaN           NaN   \n",
       "2      258801              IN      2022-01-01          NaN           NaN   \n",
       "3      258802              US      2022-01-01          NaN           NaN   \n",
       "4      258804              BD      2022-01-01          NaN           NaN   \n",
       "\n",
       "  date_purchased days_taken  num_rated_courses  avg_rated_courses  \\\n",
       "0            NaN        NaN                NaN                NaN   \n",
       "1            NaN        NaN                NaN                NaN   \n",
       "2            NaN        NaN                NaN                NaN   \n",
       "3            NaN        NaN                NaN                NaN   \n",
       "4            NaN        NaN                NaN                NaN   \n",
       "\n",
       "   avg_course_watched  total_time_watched  engagement_quizzes  \\\n",
       "0                 0.3                 0.3                 0.0   \n",
       "1                 NaN                 NaN                 NaN   \n",
       "2                 NaN                 NaN                 NaN   \n",
       "3                 NaN                 NaN                 NaN   \n",
       "4                14.2                14.2                 1.0   \n",
       "\n",
       "   engagement_exams  engagement_lessons  avg_exam_score  no_of_questions  \n",
       "0               0.0                 1.0             NaN              NaN  \n",
       "1               NaN                 NaN             NaN              NaN  \n",
       "2               NaN                 NaN             NaN              NaN  \n",
       "3               NaN                 NaN             NaN              NaN  \n",
       "4               0.0                 1.0             NaN              NaN  "
      ]
     },
     "execution_count": 2,
     "metadata": {},
     "output_type": "execute_result"
    }
   ],
   "source": [
    "df = pd.read_csv(\"cleaned_dataframe.csv\")\n",
    "df.head()"
   ]
  },
  {
   "cell_type": "markdown",
   "id": "9a6fd03d",
   "metadata": {},
   "source": [
    "as the columns purchase_id, purchase_type and date_purchased are related to target variable i.e. whether the student buys subsciptio nor not, we will drop those columns and replace these with one column with '1' and '0' as values, where '1' implies that student bought the subscription and '0' implies that the student did not bought the subscription."
   ]
  },
  {
   "cell_type": "code",
   "execution_count": 3,
   "id": "7aa9e300",
   "metadata": {},
   "outputs": [
    {
     "data": {
      "text/html": [
       "<div>\n",
       "<style scoped>\n",
       "    .dataframe tbody tr th:only-of-type {\n",
       "        vertical-align: middle;\n",
       "    }\n",
       "\n",
       "    .dataframe tbody tr th {\n",
       "        vertical-align: top;\n",
       "    }\n",
       "\n",
       "    .dataframe thead th {\n",
       "        text-align: right;\n",
       "    }\n",
       "</style>\n",
       "<table border=\"1\" class=\"dataframe\">\n",
       "  <thead>\n",
       "    <tr style=\"text-align: right;\">\n",
       "      <th></th>\n",
       "      <th>student_country</th>\n",
       "      <th>date_registered</th>\n",
       "      <th>date_purchased</th>\n",
       "      <th>num_rated_courses</th>\n",
       "      <th>avg_rated_courses</th>\n",
       "      <th>avg_course_watched</th>\n",
       "      <th>total_time_watched</th>\n",
       "      <th>engagement_quizzes</th>\n",
       "      <th>engagement_exams</th>\n",
       "      <th>engagement_lessons</th>\n",
       "      <th>avg_exam_score</th>\n",
       "      <th>no_of_questions</th>\n",
       "    </tr>\n",
       "  </thead>\n",
       "  <tbody>\n",
       "    <tr>\n",
       "      <th>0</th>\n",
       "      <td>IN</td>\n",
       "      <td>2022-01-01</td>\n",
       "      <td>0</td>\n",
       "      <td>NaN</td>\n",
       "      <td>NaN</td>\n",
       "      <td>0.3</td>\n",
       "      <td>0.3</td>\n",
       "      <td>0.0</td>\n",
       "      <td>0.0</td>\n",
       "      <td>1.0</td>\n",
       "      <td>NaN</td>\n",
       "      <td>NaN</td>\n",
       "    </tr>\n",
       "    <tr>\n",
       "      <th>1</th>\n",
       "      <td>CO</td>\n",
       "      <td>2022-01-01</td>\n",
       "      <td>0</td>\n",
       "      <td>NaN</td>\n",
       "      <td>NaN</td>\n",
       "      <td>NaN</td>\n",
       "      <td>NaN</td>\n",
       "      <td>NaN</td>\n",
       "      <td>NaN</td>\n",
       "      <td>NaN</td>\n",
       "      <td>NaN</td>\n",
       "      <td>NaN</td>\n",
       "    </tr>\n",
       "    <tr>\n",
       "      <th>2</th>\n",
       "      <td>IN</td>\n",
       "      <td>2022-01-01</td>\n",
       "      <td>0</td>\n",
       "      <td>NaN</td>\n",
       "      <td>NaN</td>\n",
       "      <td>NaN</td>\n",
       "      <td>NaN</td>\n",
       "      <td>NaN</td>\n",
       "      <td>NaN</td>\n",
       "      <td>NaN</td>\n",
       "      <td>NaN</td>\n",
       "      <td>NaN</td>\n",
       "    </tr>\n",
       "    <tr>\n",
       "      <th>3</th>\n",
       "      <td>US</td>\n",
       "      <td>2022-01-01</td>\n",
       "      <td>0</td>\n",
       "      <td>NaN</td>\n",
       "      <td>NaN</td>\n",
       "      <td>NaN</td>\n",
       "      <td>NaN</td>\n",
       "      <td>NaN</td>\n",
       "      <td>NaN</td>\n",
       "      <td>NaN</td>\n",
       "      <td>NaN</td>\n",
       "      <td>NaN</td>\n",
       "    </tr>\n",
       "    <tr>\n",
       "      <th>4</th>\n",
       "      <td>BD</td>\n",
       "      <td>2022-01-01</td>\n",
       "      <td>0</td>\n",
       "      <td>NaN</td>\n",
       "      <td>NaN</td>\n",
       "      <td>14.2</td>\n",
       "      <td>14.2</td>\n",
       "      <td>1.0</td>\n",
       "      <td>0.0</td>\n",
       "      <td>1.0</td>\n",
       "      <td>NaN</td>\n",
       "      <td>NaN</td>\n",
       "    </tr>\n",
       "  </tbody>\n",
       "</table>\n",
       "</div>"
      ],
      "text/plain": [
       "  student_country date_registered  date_purchased  num_rated_courses  \\\n",
       "0              IN      2022-01-01               0                NaN   \n",
       "1              CO      2022-01-01               0                NaN   \n",
       "2              IN      2022-01-01               0                NaN   \n",
       "3              US      2022-01-01               0                NaN   \n",
       "4              BD      2022-01-01               0                NaN   \n",
       "\n",
       "   avg_rated_courses  avg_course_watched  total_time_watched  \\\n",
       "0                NaN                 0.3                 0.3   \n",
       "1                NaN                 NaN                 NaN   \n",
       "2                NaN                 NaN                 NaN   \n",
       "3                NaN                 NaN                 NaN   \n",
       "4                NaN                14.2                14.2   \n",
       "\n",
       "   engagement_quizzes  engagement_exams  engagement_lessons  avg_exam_score  \\\n",
       "0                 0.0               0.0                 1.0             NaN   \n",
       "1                 NaN               NaN                 NaN             NaN   \n",
       "2                 NaN               NaN                 NaN             NaN   \n",
       "3                 NaN               NaN                 NaN             NaN   \n",
       "4                 1.0               0.0                 1.0             NaN   \n",
       "\n",
       "   no_of_questions  \n",
       "0              NaN  \n",
       "1              NaN  \n",
       "2              NaN  \n",
       "3              NaN  \n",
       "4              NaN  "
      ]
     },
     "execution_count": 3,
     "metadata": {},
     "output_type": "execute_result"
    }
   ],
   "source": [
    "df.date_purchased = pd.to_datetime(df.date_purchased)\n",
    "df.date_purchased = df['date_purchased'].apply(lambda x : 0 if str(x)=='NaT' else 1 )\n",
    "df.drop(columns=['purchase_id', 'purchase_type', 'days_taken', 'student_id'], inplace=True)\n",
    "df.head()"
   ]
  },
  {
   "cell_type": "code",
   "execution_count": 4,
   "id": "8b55f6cf",
   "metadata": {},
   "outputs": [
    {
     "name": "stdout",
     "output_type": "stream",
     "text": [
      "<class 'pandas.core.frame.DataFrame'>\n",
      "RangeIndex: 34163 entries, 0 to 34162\n",
      "Data columns (total 12 columns):\n",
      " #   Column              Non-Null Count  Dtype  \n",
      "---  ------              --------------  -----  \n",
      " 0   student_country     34151 non-null  object \n",
      " 1   date_registered     34163 non-null  object \n",
      " 2   date_purchased      34163 non-null  int64  \n",
      " 3   num_rated_courses   647 non-null    float64\n",
      " 4   avg_rated_courses   647 non-null    float64\n",
      " 5   avg_course_watched  16671 non-null  float64\n",
      " 6   total_time_watched  16671 non-null  float64\n",
      " 7   engagement_quizzes  16846 non-null  float64\n",
      " 8   engagement_exams    16846 non-null  float64\n",
      " 9   engagement_lessons  16846 non-null  float64\n",
      " 10  avg_exam_score      2589 non-null   float64\n",
      " 11  no_of_questions     80 non-null     float64\n",
      "dtypes: float64(9), int64(1), object(2)\n",
      "memory usage: 3.1+ MB\n"
     ]
    }
   ],
   "source": [
    "df.info()"
   ]
  },
  {
   "cell_type": "markdown",
   "id": "fc1c547c",
   "metadata": {},
   "source": [
    "There are plenty of missing values in the dataset, so, one by one, we will have to impute the missing values for every column."
   ]
  },
  {
   "cell_type": "markdown",
   "id": "e2d88c18",
   "metadata": {},
   "source": [
    "#### 2.1 Missing value imputation for student_country column"
   ]
  },
  {
   "cell_type": "code",
   "execution_count": 5,
   "id": "b8702bdc",
   "metadata": {},
   "outputs": [
    {
     "data": {
      "text/plain": [
       "12"
      ]
     },
     "execution_count": 5,
     "metadata": {},
     "output_type": "execute_result"
    }
   ],
   "source": [
    "df.student_country.isna().sum()"
   ]
  },
  {
   "cell_type": "code",
   "execution_count": 6,
   "id": "256f6644",
   "metadata": {},
   "outputs": [
    {
     "data": {
      "text/plain": [
       "<AxesSubplot:>"
      ]
     },
     "execution_count": 6,
     "metadata": {},
     "output_type": "execute_result"
    },
    {
     "data": {
      "image/png": "[encoded data removed]",
      "text/plain": [
       "<Figure size 640x480 with 1 Axes>"
      ]
     },
     "metadata": {},
     "output_type": "display_data"
    }
   ],
   "source": [
    "df.student_country.value_counts().plot()"
   ]
  },
  {
   "cell_type": "markdown",
   "id": "fdf6e1c8",
   "metadata": {},
   "source": [
    "There are only 12 missing values in the student_country column. Also, as seen from the plot above, students from 'IN' are is high number and is many times greater than other countries. So, it is apt to do 'mode imputation' here and fill the missing values with 'IN' country value."
   ]
  },
  {
   "cell_type": "code",
   "execution_count": 7,
   "id": "2ad573fe",
   "metadata": {},
   "outputs": [],
   "source": [
    "df.student_country.fillna('IN', inplace=True)"
   ]
  },
  {
   "cell_type": "markdown",
   "id": "462b16db",
   "metadata": {},
   "source": [
    "#### 2.2 Missing value imputation for 'num_rated_courses'"
   ]
  },
  {
   "cell_type": "code",
   "execution_count": 8,
   "id": "ec8e202a",
   "metadata": {},
   "outputs": [
    {
     "data": {
      "text/plain": [
       "1.0     551\n",
       "2.0      66\n",
       "3.0      15\n",
       "5.0       6\n",
       "4.0       3\n",
       "7.0       2\n",
       "9.0       2\n",
       "11.0      1\n",
       "13.0      1\n",
       "Name: num_rated_courses, dtype: int64"
      ]
     },
     "execution_count": 8,
     "metadata": {},
     "output_type": "execute_result"
    }
   ],
   "source": [
    "df[~df.num_rated_courses.isna()].num_rated_courses.value_counts()"
   ]
  },
  {
   "cell_type": "markdown",
   "id": "16aac312",
   "metadata": {},
   "source": [
    "Majority of the students who gave ratings to courses have mostly rated only 1 course followed by 2 courses and 3 courses. The rest are outliers. If the student hasn't given any rating to any of the course, the obivous value will be 0 for these. So, we will do a '0' value imputation for num_rated_courses."
   ]
  },
  {
   "cell_type": "code",
   "execution_count": 9,
   "id": "2ca6cd87",
   "metadata": {},
   "outputs": [],
   "source": [
    "df.num_rated_courses.fillna(0, inplace=True)"
   ]
  },
  {
   "cell_type": "markdown",
   "id": "3209669e",
   "metadata": {},
   "source": [
    "#### 2.3 Missing value imputation for avg_rated_courses"
   ]
  },
  {
   "cell_type": "code",
   "execution_count": 10,
   "id": "b2b7b8f0",
   "metadata": {},
   "outputs": [
    {
     "data": {
      "text/plain": [
       "5.000000    559\n",
       "4.000000     57\n",
       "3.000000     12\n",
       "4.500000      5\n",
       "3.500000      4\n",
       "2.000000      3\n",
       "4.800000      2\n",
       "4.666667      2\n",
       "4.333333      2\n",
       "4.555556      1\n",
       "Name: avg_rated_courses, dtype: int64"
      ]
     },
     "execution_count": 10,
     "metadata": {},
     "output_type": "execute_result"
    }
   ],
   "source": [
    "df[~df.avg_rated_courses.isna()].avg_rated_courses.value_counts()"
   ]
  },
  {
   "cell_type": "code",
   "execution_count": 11,
   "id": "7a4022af",
   "metadata": {},
   "outputs": [
    {
     "data": {
      "text/plain": [
       "<AxesSubplot:xlabel='date_purchased', ylabel='avg_rated_courses'>"
      ]
     },
     "execution_count": 11,
     "metadata": {},
     "output_type": "execute_result"
    },
    {
     "data": {
      "image/png": "[encoded data removed]",
      "text/plain": [
       "<Figure size 640x480 with 1 Axes>"
      ]
     },
     "metadata": {},
     "output_type": "display_data"
    }
   ],
   "source": [
    "sns.violinplot(data=df, y=\"avg_rated_courses\", x=\"date_purchased\")"
   ]
  },
  {
   "cell_type": "markdown",
   "id": "0e878b47",
   "metadata": {},
   "source": [
    "Only a small fraction of students have given ratings to course and it is mostly 5 start rating. It is evident from the violin plot above that the distribution or average ratings given by students is same for both types of students - those that eventually bought the course and those who didn't. To impute the missing values, it would be good to do weighted average missing value imputation. "
   ]
  },
  {
   "cell_type": "code",
   "execution_count": 12,
   "id": "28011be3",
   "metadata": {},
   "outputs": [],
   "source": [
    "tempSeries = df[~df.avg_rated_courses.isna()].avg_rated_courses.value_counts()\n",
    "weighted_average = np.average(tempSeries.index, weights=tempSeries.values)\n",
    "df.avg_rated_courses.fillna(weighted_average, inplace=True)"
   ]
  },
  {
   "cell_type": "markdown",
   "id": "9f67b3c1",
   "metadata": {},
   "source": [
    "#### 2.4 Missing value imputation for avg_course_watched"
   ]
  },
  {
   "cell_type": "code",
   "execution_count": 13,
   "id": "a4ffa018",
   "metadata": {},
   "outputs": [
    {
     "data": {
      "text/plain": [
       "<AxesSubplot:>"
      ]
     },
     "execution_count": 13,
     "metadata": {},
     "output_type": "execute_result"
    },
    {
     "data": {
      "image/png": "[encoded data removed]",
      "text/plain": [
       "<Figure size 640x480 with 1 Axes>"
      ]
     },
     "metadata": {},
     "output_type": "display_data"
    }
   ],
   "source": [
    "df.avg_course_watched.value_counts().plot()"
   ]
  },
  {
   "cell_type": "code",
   "execution_count": 14,
   "id": "d5ff568b",
   "metadata": {},
   "outputs": [
    {
     "data": {
      "text/plain": [
       "<AxesSubplot:xlabel='date_purchased', ylabel='avg_course_watched'>"
      ]
     },
     "execution_count": 14,
     "metadata": {},
     "output_type": "execute_result"
    },
    {
     "data": {
      "image/png": "[encoded data removed]",
      "text/plain": [
       "<Figure size 640x480 with 1 Axes>"
      ]
     },
     "metadata": {},
     "output_type": "display_data"
    }
   ],
   "source": [
    "sns.violinplot(data=df, y='avg_course_watched', x='date_purchased')"
   ]
  },
  {
   "cell_type": "markdown",
   "id": "2ddf22e2",
   "metadata": {},
   "source": [
    "As seen from above violin plot the distribution of the average course watched is slightly different for those that subscribed and those that didn't. This shows that it is an important feature for determining whether the student is going to buy the course or not. We need to impute the missing values in this feature in such a way that this difference in distribution stays the same. One way to do this is to use weighted average to impute the missing values. The weighted average in this case is calcualted based on the count. The value is the average duration course is watched and the weight is it's frequency in the dataset."
   ]
  },
  {
   "cell_type": "code",
   "execution_count": 15,
   "id": "9b3d2029",
   "metadata": {},
   "outputs": [],
   "source": [
    "tempSeries1 = df[~df.avg_course_watched.isna()].avg_course_watched.value_counts()\n",
    "weighted_average1 = np.average(tempSeries1.index, weights=tempSeries1.values)\n",
    "df.avg_course_watched.fillna(weighted_average1, inplace=True)"
   ]
  },
  {
   "cell_type": "code",
   "execution_count": 16,
   "id": "48d136ec",
   "metadata": {},
   "outputs": [
    {
     "data": {
      "text/plain": [
       "<AxesSubplot:xlabel='date_purchased', ylabel='avg_course_watched'>"
      ]
     },
     "execution_count": 16,
     "metadata": {},
     "output_type": "execute_result"
    },
    {
     "data": {
      "image/png": "[encoded data removed]",
      "text/plain": [
       "<Figure size 640x480 with 1 Axes>"
      ]
     },
     "metadata": {},
     "output_type": "display_data"
    }
   ],
   "source": [
    "sns.violinplot(data=df, y='avg_course_watched', x='date_purchased')"
   ]
  },
  {
   "cell_type": "markdown",
   "id": "842a0e2a",
   "metadata": {},
   "source": [
    "As we can see, we have succeeded in preserving the difference in distribution of those that purchased the course and those that didn't while imputing the values for avg_course_watched feature."
   ]
  },
  {
   "cell_type": "markdown",
   "id": "a02a4341",
   "metadata": {},
   "source": [
    "#### 2.5 Missing value imputation for total_time_watched"
   ]
  },
  {
   "cell_type": "code",
   "execution_count": 17,
   "id": "34290fc8",
   "metadata": {},
   "outputs": [
    {
     "name": "stdout",
     "output_type": "stream",
     "text": [
      "Number of missing values for total_time_watched is 17492\n"
     ]
    },
    {
     "data": {
      "text/plain": [
       "0.1      1126\n",
       "0.2       698\n",
       "0.3       514\n",
       "0.4       433\n",
       "0.5       337\n",
       "         ... \n",
       "225.3       1\n",
       "297.7       1\n",
       "339.9       1\n",
       "107.9       1\n",
       "82.6        1\n",
       "Name: total_time_watched, Length: 1937, dtype: int64"
      ]
     },
     "execution_count": 17,
     "metadata": {},
     "output_type": "execute_result"
    }
   ],
   "source": [
    "print(f'Number of missing values for total_time_watched is {df.total_time_watched.isna().sum()}')\n",
    "df.total_time_watched.value_counts()"
   ]
  },
  {
   "cell_type": "code",
   "execution_count": 18,
   "id": "1e34c2b1",
   "metadata": {},
   "outputs": [
    {
     "data": {
      "text/plain": [
       "1"
      ]
     },
     "execution_count": 18,
     "metadata": {},
     "output_type": "execute_result"
    }
   ],
   "source": [
    "# finding the number of students that didn't watch any course videos\n",
    "df.total_time_watched.value_counts()[0.0]"
   ]
  },
  {
   "cell_type": "markdown",
   "id": "df24f322",
   "metadata": {},
   "source": [
    "Almost 50% of the data is missing. There are two ways that we can safely impute the data. One is to do 'zero imputation' this would imply that those students didn't watch any of the videos on platform which doesn't seem true as in our dataset the count for '0.0' minutes is only 1. \n",
    "\n",
    "So, we will rather opt for mode impuatation in this case, where we will fill the missing values in the dataset with 0.1 minutes."
   ]
  },
  {
   "cell_type": "code",
   "execution_count": 19,
   "id": "b67ab82b",
   "metadata": {},
   "outputs": [
    {
     "data": {
      "text/plain": [
       "<AxesSubplot:xlabel='date_purchased', ylabel='total_time_watched'>"
      ]
     },
     "execution_count": 19,
     "metadata": {},
     "output_type": "execute_result"
    },
    {
     "data": {
      "image/png": "[encoded data removed]",
      "text/plain": [
       "<Figure size 640x480 with 1 Axes>"
      ]
     },
     "metadata": {},
     "output_type": "display_data"
    }
   ],
   "source": [
    "sns.violinplot(data=df, x='date_purchased', y='total_time_watched')"
   ]
  },
  {
   "cell_type": "code",
   "execution_count": 20,
   "id": "83b13590",
   "metadata": {},
   "outputs": [
    {
     "data": {
      "text/plain": [
       "<AxesSubplot:xlabel='date_purchased', ylabel='total_time_watched'>"
      ]
     },
     "execution_count": 20,
     "metadata": {},
     "output_type": "execute_result"
    },
    {
     "data": {
      "image/png": "[encoded data removed]",
      "text/plain": [
       "<Figure size 640x480 with 1 Axes>"
      ]
     },
     "metadata": {},
     "output_type": "display_data"
    }
   ],
   "source": [
    "df.total_time_watched.fillna(0.1, inplace=True)\n",
    "sns.violinplot(data=df, x='date_purchased', y='total_time_watched')"
   ]
  },
  {
   "cell_type": "markdown",
   "id": "d1700061",
   "metadata": {},
   "source": [
    "We have also been able to preserve the different distributions of the students who purchased and those who didn't reflected in the total_time_watched feature."
   ]
  },
  {
   "cell_type": "markdown",
   "id": "aa6c2462",
   "metadata": {},
   "source": [
    "#### 2.6 Missing value impuatation for engagement_quizzes"
   ]
  },
  {
   "cell_type": "code",
   "execution_count": 21,
   "id": "da26b524",
   "metadata": {},
   "outputs": [
    {
     "data": {
      "text/plain": [
       "0.0     10626\n",
       "1.0      4156\n",
       "2.0      1343\n",
       "3.0       437\n",
       "4.0       140\n",
       "5.0        55\n",
       "6.0        22\n",
       "7.0        17\n",
       "8.0        12\n",
       "10.0        9\n",
       "11.0        9\n",
       "13.0        8\n",
       "9.0         5\n",
       "12.0        4\n",
       "16.0        2\n",
       "14.0        1\n",
       "Name: engagement_quizzes, dtype: int64"
      ]
     },
     "execution_count": 21,
     "metadata": {},
     "output_type": "execute_result"
    }
   ],
   "source": [
    "df.engagement_quizzes.value_counts()"
   ]
  },
  {
   "cell_type": "markdown",
   "id": "6f004bf2",
   "metadata": {},
   "source": [
    "for the rows where engagement_quizzes is null, it is safe to assume that null value implies that student did not attempted any quiz and therefore it is 0. We will therefore fill all the na values with 0"
   ]
  },
  {
   "cell_type": "code",
   "execution_count": 29,
   "id": "762240ea",
   "metadata": {},
   "outputs": [],
   "source": [
    "df.engagement_quizzes.fillna(0,inplace=True)"
   ]
  },
  {
   "cell_type": "markdown",
   "id": "ebb3d79b",
   "metadata": {},
   "source": [
    "#### 2.8 Missing value imputation for engagement_lessons"
   ]
  },
  {
   "cell_type": "code",
   "execution_count": 24,
   "id": "ab1926bd",
   "metadata": {},
   "outputs": [
    {
     "data": {
      "text/plain": [
       "1.0     11722\n",
       "2.0      2802\n",
       "3.0      1023\n",
       "4.0       480\n",
       "5.0       241\n",
       "0.0       178\n",
       "6.0       121\n",
       "7.0        79\n",
       "8.0        41\n",
       "9.0        28\n",
       "11.0       20\n",
       "10.0       20\n",
       "12.0       19\n",
       "13.0       13\n",
       "14.0       11\n",
       "15.0        7\n",
       "16.0        7\n",
       "24.0        6\n",
       "25.0        5\n",
       "19.0        5\n",
       "20.0        4\n",
       "18.0        4\n",
       "21.0        4\n",
       "17.0        4\n",
       "27.0        1\n",
       "30.0        1\n",
       "Name: engagement_lessons, dtype: int64"
      ]
     },
     "execution_count": 24,
     "metadata": {},
     "output_type": "execute_result"
    }
   ],
   "source": [
    "df.engagement_lessons.value_counts()"
   ]
  },
  {
   "cell_type": "markdown",
   "id": "dae8f45d",
   "metadata": {},
   "source": [
    "Here null values imply that there was no engagement from the student with respect to lessons watched. So, we will replace all null values with 0"
   ]
  },
  {
   "cell_type": "code",
   "execution_count": 45,
   "id": "c956f687",
   "metadata": {},
   "outputs": [],
   "source": [
    "df.engagement_lessons.fillna(0, inplace=True)"
   ]
  },
  {
   "cell_type": "markdown",
   "id": "480e6377",
   "metadata": {},
   "source": [
    "#### 2.9 Missing value imputation for engagement_exams"
   ]
  },
  {
   "cell_type": "code",
   "execution_count": 32,
   "id": "fbe00a54",
   "metadata": {},
   "outputs": [
    {
     "data": {
      "text/plain": [
       "0.0     14292\n",
       "1.0      1982\n",
       "2.0       367\n",
       "3.0        93\n",
       "4.0        41\n",
       "5.0        23\n",
       "6.0        13\n",
       "7.0         8\n",
       "8.0         5\n",
       "13.0        4\n",
       "12.0        4\n",
       "9.0         4\n",
       "10.0        4\n",
       "11.0        3\n",
       "18.0        1\n",
       "16.0        1\n",
       "15.0        1\n",
       "Name: engagement_exams, dtype: int64"
      ]
     },
     "execution_count": 32,
     "metadata": {},
     "output_type": "execute_result"
    }
   ],
   "source": [
    "df.engagement_exams.value_counts()"
   ]
  },
  {
   "cell_type": "markdown",
   "id": "cb3d2e67",
   "metadata": {},
   "source": [
    "Here, majority of non-null values have 0 as value which implies that majority of students didn't attempt any exam. So, we will impute the missing values with 0 value."
   ]
  },
  {
   "cell_type": "code",
   "execution_count": 33,
   "id": "8192cf0a",
   "metadata": {},
   "outputs": [],
   "source": [
    "df.engagement_exams.fillna(0, inplace=True)"
   ]
  },
  {
   "cell_type": "markdown",
   "id": "ce962b5d",
   "metadata": {},
   "source": [
    "#### 2.10 Missing value imputation for avg_exam_score"
   ]
  },
  {
   "cell_type": "code",
   "execution_count": 40,
   "id": "5ea48a36",
   "metadata": {},
   "outputs": [
    {
     "data": {
      "text/plain": [
       "31574"
      ]
     },
     "execution_count": 40,
     "metadata": {},
     "output_type": "execute_result"
    }
   ],
   "source": [
    "df.avg_exam_score.isna().sum()"
   ]
  },
  {
   "cell_type": "markdown",
   "id": "34dd8c4e",
   "metadata": {},
   "source": [
    "For the avg_exam_score, only a small fraction of records have non-null values. In this case, we will replace null values with weighted average score where the weights are the frequency of those scores."
   ]
  },
  {
   "cell_type": "code",
   "execution_count": 41,
   "id": "44a9dc5d",
   "metadata": {},
   "outputs": [],
   "source": [
    "avg_score_series = df.avg_exam_score.value_counts()\n",
    "weighted_avg_exam_score = np.average(avg_score_series.index, weights=avg_score_series.values)\n",
    "df.avg_exam_score.fillna(weighted_avg_exam_score,inplace=True )"
   ]
  },
  {
   "cell_type": "markdown",
   "id": "adca4f23",
   "metadata": {},
   "source": [
    "#### 2.11 Missing value imputation for no_of_questions"
   ]
  },
  {
   "cell_type": "code",
   "execution_count": 44,
   "id": "7c517d81",
   "metadata": {},
   "outputs": [
    {
     "data": {
      "text/plain": [
       "1.0    65\n",
       "2.0    10\n",
       "3.0     2\n",
       "4.0     2\n",
       "9.0     1\n",
       "Name: no_of_questions, dtype: int64"
      ]
     },
     "execution_count": 44,
     "metadata": {},
     "output_type": "execute_result"
    }
   ],
   "source": [
    "df.no_of_questions.value_counts()"
   ]
  },
  {
   "cell_type": "markdown",
   "id": "d6a413e6",
   "metadata": {},
   "source": [
    "Null values in no_of_questions feature imply that the student hasn't asked any question on the question platform. So, we will simply replace all null values with 0. "
   ]
  },
  {
   "cell_type": "code",
   "execution_count": 47,
   "id": "ec462b47",
   "metadata": {},
   "outputs": [],
   "source": [
    "df.no_of_questions.fillna(0, inplace=True)"
   ]
  },
  {
   "cell_type": "code",
   "execution_count": 70,
   "id": "09bfb222",
   "metadata": {},
   "outputs": [],
   "source": []
  },
  {
   "cell_type": "markdown",
   "id": "6cb7bf17",
   "metadata": {},
   "source": [
    "#### 2.12 Check for Data imbalance"
   ]
  },
  {
   "cell_type": "code",
   "execution_count": 66,
   "id": "911b31cf",
   "metadata": {},
   "outputs": [
    {
     "data": {
      "text/plain": [
       "<AxesSubplot:>"
      ]
     },
     "execution_count": 66,
     "metadata": {},
     "output_type": "execute_result"
    },
    {
     "data": {
      "image/png": "[encoded data removed]",
      "text/plain": [
       "<Figure size 640x480 with 1 Axes>"
      ]
     },
     "metadata": {},
     "output_type": "display_data"
    }
   ],
   "source": [
    "# rename column date_purchased to 'paid'\n",
    "df.rename(columns={'date_purchased': 'paid'}, inplace=True)"
   ]
  },
  {
   "cell_type": "markdown",
   "id": "83b35f2f",
   "metadata": {},
   "source": [
    "The dataset is highly imbalanced. So, before proceeding, we will need to balance the dataset. "
   ]
  }
 ],
 "metadata": {
  "kernelspec": {
   "display_name": "Python 3 (ipykernel)",
   "language": "python",
   "name": "python3"
  },
  "language_info": {
   "codemirror_mode": {
    "name": "ipython",
    "version": 3
   },
   "file_extension": ".py",
   "mimetype": "text/x-python",
   "name": "python",
   "nbconvert_exporter": "python",
   "pygments_lexer": "ipython3",
   "version": "3.9.13"
  }
 },
 "nbformat": 4,
 "nbformat_minor": 5
}
