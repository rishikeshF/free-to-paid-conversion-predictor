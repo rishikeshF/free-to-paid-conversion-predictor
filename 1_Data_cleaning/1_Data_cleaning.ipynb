{
 "cells": [
  {
   "cell_type": "markdown",
   "id": "13ffcc7a",
   "metadata": {},
   "source": [
    "# Problem statement\n",
    "\n",
    "365 Data Science is an online learning platform specializing in data science courses. Students learn by watching video content, then evaluate their knowledge by taking quizzes, practice exams, course exams, and career track exams. The exams can be attempted more than once.\n",
    "\n",
    "The following task has you develop a machine learning model to predict whether a Free Plan user would convert to a paid subscriber or not.\n",
    "\n",
    "Think of the features that could help determine the outcome. Share your results by supporting them with relevant metrics, a confusion matrix, or another industry-standard method for model evaluation. Note that this classification problem deals with a heavily imbalanced dataset.\n",
    "\n",
    "### Domain expert knowledge :\n",
    "\n",
    "You can evaluate the metrics for a fixed period. Our experience has shown that students generally convert within 1 or 2 weeks after entering the platform. Therefore, it is reasonable to confine the features to within several days after registration—for example, minutes watched N days after registration."
   ]
  },
  {
   "cell_type": "code",
   "execution_count": 1,
   "id": "1b942720",
   "metadata": {},
   "outputs": [],
   "source": [
    "# importing required libraries and frameworks\n",
    "import pandas as pd\n",
    "import numpy as np\n",
    "import os\n",
    "import matplotlib.pyplot as plt\n",
    "pd.options.display.max_colwidth = None\n",
    "from datetime import datetime, timedelta\n",
    "%matplotlib inline"
   ]
  },
  {
   "cell_type": "markdown",
   "id": "42e8f947",
   "metadata": {},
   "source": [
    "Data is spread over several different files. We need to explore the data provided in all these files and compile useful data into single dataframe which can further be vectorized to create a machine learning model with it."
   ]
  },
  {
   "cell_type": "code",
   "execution_count": 2,
   "id": "9a10acb1",
   "metadata": {},
   "outputs": [
    {
     "name": "stdout",
     "output_type": "stream",
     "text": [
      "365_course_info.csv\n",
      "365_course_ratings.csv\n",
      "365_exam_info.csv\n",
      "365_quiz_info.csv\n",
      "365_student_engagement.csv\n",
      "365_student_exams.csv\n",
      "365_student_hub_questions.csv\n",
      "365_student_info.csv\n",
      "365_student_learning.csv\n",
      "365_student_purchases.csv\n",
      "365_student_quizzes.csv\n"
     ]
    }
   ],
   "source": [
    "files = [f for f in os.listdir('./365_database') ] #if os.path.isfile(f)]\n",
    "for f in files:\n",
    "    print(f)\n",
    "    \n",
    "path = \"./365_database/\"\n",
    "course_info = pd.read_csv(path+\"365_course_info.csv\")\n",
    "course_ratings = pd.read_csv(path+\"365_course_ratings.csv\")\n",
    "exam_info = pd.read_csv(path+\"365_exam_info.csv\")\n",
    "quiz_info = pd.read_csv(path+\"365_quiz_info.csv\")\n",
    "student_engagement = pd.read_csv(path+\"365_student_engagement.csv\")\n",
    "student_exams = pd.read_csv(path + \"365_student_exams.csv\")\n",
    "student_hub_questions = pd.read_csv(path+\"365_student_hub_questions.csv\")\n",
    "student_info = pd.read_csv(path+\"365_student_info.csv\")\n",
    "student_learning = pd.read_csv(path+\"365_student_learning.csv\")\n",
    "student_purchases = pd.read_csv(path+\"365_student_purchases.csv\")\n",
    "student_quizzes = pd.read_csv(path+\"365_student_quizzes.csv\")"
   ]
  },
  {
   "cell_type": "code",
   "execution_count": 3,
   "id": "230d821e",
   "metadata": {},
   "outputs": [],
   "source": [
    "# Collecting all the dataframe names and corresponding columns in a list\n",
    "dataframe_names, dataframe_features = [],[]"
   ]
  },
  {
   "cell_type": "markdown",
   "id": "72b2a00e",
   "metadata": {},
   "source": [
    "**1.1 course_info dataframe contains course_id and corresponding course_title**"
   ]
  },
  {
   "cell_type": "code",
   "execution_count": 4,
   "id": "530dc005",
   "metadata": {},
   "outputs": [
    {
     "name": "stdout",
     "output_type": "stream",
     "text": [
      "<class 'pandas.core.frame.DataFrame'>\n",
      "RangeIndex: 46 entries, 0 to 45\n",
      "Data columns (total 2 columns):\n",
      " #   Column        Non-Null Count  Dtype \n",
      "---  ------        --------------  ----- \n",
      " 0   course_id     46 non-null     int64 \n",
      " 1   course_title  46 non-null     object\n",
      "dtypes: int64(1), object(1)\n",
      "memory usage: 864.0+ bytes\n",
      "None\n"
     ]
    },
    {
     "data": {
      "text/html": [
       "<div>\n",
       "<style scoped>\n",
       "    .dataframe tbody tr th:only-of-type {\n",
       "        vertical-align: middle;\n",
       "    }\n",
       "\n",
       "    .dataframe tbody tr th {\n",
       "        vertical-align: top;\n",
       "    }\n",
       "\n",
       "    .dataframe thead th {\n",
       "        text-align: right;\n",
       "    }\n",
       "</style>\n",
       "<table border=\"1\" class=\"dataframe\">\n",
       "  <thead>\n",
       "    <tr style=\"text-align: right;\">\n",
       "      <th></th>\n",
       "      <th>course_id</th>\n",
       "      <th>course_title</th>\n",
       "    </tr>\n",
       "  </thead>\n",
       "  <tbody>\n",
       "    <tr>\n",
       "      <th>0</th>\n",
       "      <td>2</td>\n",
       "      <td>Introduction to Tableau</td>\n",
       "    </tr>\n",
       "    <tr>\n",
       "      <th>1</th>\n",
       "      <td>3</td>\n",
       "      <td>The Complete Data Visualization Course with Python, R, Tableau, and Excel</td>\n",
       "    </tr>\n",
       "    <tr>\n",
       "      <th>2</th>\n",
       "      <td>4</td>\n",
       "      <td>Introduction to R Programming</td>\n",
       "    </tr>\n",
       "  </tbody>\n",
       "</table>\n",
       "</div>"
      ],
      "text/plain": [
       "   course_id  \\\n",
       "0          2   \n",
       "1          3   \n",
       "2          4   \n",
       "\n",
       "                                                                course_title  \n",
       "0                                                    Introduction to Tableau  \n",
       "1  The Complete Data Visualization Course with Python, R, Tableau, and Excel  \n",
       "2                                              Introduction to R Programming  "
      ]
     },
     "execution_count": 4,
     "metadata": {},
     "output_type": "execute_result"
    }
   ],
   "source": [
    "# print data type of columns and non-null value count\n",
    "print(course_info.info())\n",
    "\n",
    "# append the dataframe name and column names\n",
    "dataframe_names.append('course_info')\n",
    "dataframe_features.append(list(course_info.columns))\n",
    "\n",
    "# print first 3 rows of dataframe\n",
    "course_info.head(3)"
   ]
  },
  {
   "cell_type": "markdown",
   "id": "7b05b885",
   "metadata": {},
   "source": [
    "**1.2 course_ratings dataframe contains course_id, student_id, course_rating and date_rated**"
   ]
  },
  {
   "cell_type": "code",
   "execution_count": 5,
   "id": "beacd509",
   "metadata": {},
   "outputs": [
    {
     "name": "stdout",
     "output_type": "stream",
     "text": [
      "<class 'pandas.core.frame.DataFrame'>\n",
      "RangeIndex: 2500 entries, 0 to 2499\n",
      "Data columns (total 4 columns):\n",
      " #   Column         Non-Null Count  Dtype \n",
      "---  ------         --------------  ----- \n",
      " 0   course_id      2500 non-null   int64 \n",
      " 1   student_id     2500 non-null   int64 \n",
      " 2   course_rating  2500 non-null   int64 \n",
      " 3   date_rated     2500 non-null   object\n",
      "dtypes: int64(3), object(1)\n",
      "memory usage: 78.2+ KB\n",
      "None\n"
     ]
    },
    {
     "data": {
      "text/html": [
       "<div>\n",
       "<style scoped>\n",
       "    .dataframe tbody tr th:only-of-type {\n",
       "        vertical-align: middle;\n",
       "    }\n",
       "\n",
       "    .dataframe tbody tr th {\n",
       "        vertical-align: top;\n",
       "    }\n",
       "\n",
       "    .dataframe thead th {\n",
       "        text-align: right;\n",
       "    }\n",
       "</style>\n",
       "<table border=\"1\" class=\"dataframe\">\n",
       "  <thead>\n",
       "    <tr style=\"text-align: right;\">\n",
       "      <th></th>\n",
       "      <th>course_id</th>\n",
       "      <th>student_id</th>\n",
       "      <th>course_rating</th>\n",
       "      <th>date_rated</th>\n",
       "    </tr>\n",
       "  </thead>\n",
       "  <tbody>\n",
       "    <tr>\n",
       "      <th>0</th>\n",
       "      <td>14</td>\n",
       "      <td>258956</td>\n",
       "      <td>5</td>\n",
       "      <td>2022-07-06</td>\n",
       "    </tr>\n",
       "    <tr>\n",
       "      <th>1</th>\n",
       "      <td>7</td>\n",
       "      <td>259019</td>\n",
       "      <td>5</td>\n",
       "      <td>2022-08-30</td>\n",
       "    </tr>\n",
       "    <tr>\n",
       "      <th>2</th>\n",
       "      <td>23</td>\n",
       "      <td>259019</td>\n",
       "      <td>4</td>\n",
       "      <td>2022-08-30</td>\n",
       "    </tr>\n",
       "  </tbody>\n",
       "</table>\n",
       "</div>"
      ],
      "text/plain": [
       "   course_id  student_id  course_rating  date_rated\n",
       "0         14      258956              5  2022-07-06\n",
       "1          7      259019              5  2022-08-30\n",
       "2         23      259019              4  2022-08-30"
      ]
     },
     "execution_count": 5,
     "metadata": {},
     "output_type": "execute_result"
    }
   ],
   "source": [
    "print(course_ratings.info())\n",
    "\n",
    "dataframe_names.append('course_ratings')\n",
    "dataframe_features.append(list(course_ratings.columns))\n",
    "\n",
    "course_ratings.head(3)"
   ]
  },
  {
   "cell_type": "markdown",
   "id": "affc20bb",
   "metadata": {},
   "source": [
    "**1.3 exam_info dataframe contains exam_id, exam_category and exam_duration**"
   ]
  },
  {
   "cell_type": "code",
   "execution_count": 6,
   "id": "9fd48378",
   "metadata": {},
   "outputs": [
    {
     "name": "stdout",
     "output_type": "stream",
     "text": [
      "<class 'pandas.core.frame.DataFrame'>\n",
      "RangeIndex: 156 entries, 0 to 155\n",
      "Data columns (total 3 columns):\n",
      " #   Column         Non-Null Count  Dtype\n",
      "---  ------         --------------  -----\n",
      " 0   exam_id        156 non-null    int64\n",
      " 1   exam_category  156 non-null    int64\n",
      " 2   exam_duration  156 non-null    int64\n",
      "dtypes: int64(3)\n",
      "memory usage: 3.8 KB\n",
      "None\n"
     ]
    },
    {
     "data": {
      "text/html": [
       "<div>\n",
       "<style scoped>\n",
       "    .dataframe tbody tr th:only-of-type {\n",
       "        vertical-align: middle;\n",
       "    }\n",
       "\n",
       "    .dataframe tbody tr th {\n",
       "        vertical-align: top;\n",
       "    }\n",
       "\n",
       "    .dataframe thead th {\n",
       "        text-align: right;\n",
       "    }\n",
       "</style>\n",
       "<table border=\"1\" class=\"dataframe\">\n",
       "  <thead>\n",
       "    <tr style=\"text-align: right;\">\n",
       "      <th></th>\n",
       "      <th>exam_id</th>\n",
       "      <th>exam_category</th>\n",
       "      <th>exam_duration</th>\n",
       "    </tr>\n",
       "  </thead>\n",
       "  <tbody>\n",
       "    <tr>\n",
       "      <th>0</th>\n",
       "      <td>118</td>\n",
       "      <td>2</td>\n",
       "      <td>14</td>\n",
       "    </tr>\n",
       "    <tr>\n",
       "      <th>1</th>\n",
       "      <td>119</td>\n",
       "      <td>2</td>\n",
       "      <td>14</td>\n",
       "    </tr>\n",
       "    <tr>\n",
       "      <th>2</th>\n",
       "      <td>120</td>\n",
       "      <td>1</td>\n",
       "      <td>26</td>\n",
       "    </tr>\n",
       "  </tbody>\n",
       "</table>\n",
       "</div>"
      ],
      "text/plain": [
       "   exam_id  exam_category  exam_duration\n",
       "0      118              2             14\n",
       "1      119              2             14\n",
       "2      120              1             26"
      ]
     },
     "execution_count": 6,
     "metadata": {},
     "output_type": "execute_result"
    }
   ],
   "source": [
    "print(exam_info.info())\n",
    "\n",
    "dataframe_names.append('exam_info')\n",
    "dataframe_features.append(list(exam_info.columns))\n",
    "\n",
    "exam_info.head(3)"
   ]
  },
  {
   "cell_type": "markdown",
   "id": "65665033",
   "metadata": {},
   "source": [
    "**1.4 quiz_info dataframe contains quiz_id, question_id, answer_id and answer_correct**"
   ]
  },
  {
   "cell_type": "code",
   "execution_count": 7,
   "id": "cb4f03fb",
   "metadata": {},
   "outputs": [
    {
     "name": "stdout",
     "output_type": "stream",
     "text": [
      "<class 'pandas.core.frame.DataFrame'>\n",
      "RangeIndex: 4741 entries, 0 to 4740\n",
      "Data columns (total 4 columns):\n",
      " #   Column          Non-Null Count  Dtype \n",
      "---  ------          --------------  ----- \n",
      " 0   quiz_id         4741 non-null   int64 \n",
      " 1   question_id     4741 non-null   int64 \n",
      " 2   answer_id       4741 non-null   int64 \n",
      " 3   answer_correct  4741 non-null   object\n",
      "dtypes: int64(3), object(1)\n",
      "memory usage: 148.3+ KB\n",
      "None\n"
     ]
    },
    {
     "data": {
      "text/html": [
       "<div>\n",
       "<style scoped>\n",
       "    .dataframe tbody tr th:only-of-type {\n",
       "        vertical-align: middle;\n",
       "    }\n",
       "\n",
       "    .dataframe tbody tr th {\n",
       "        vertical-align: top;\n",
       "    }\n",
       "\n",
       "    .dataframe thead th {\n",
       "        text-align: right;\n",
       "    }\n",
       "</style>\n",
       "<table border=\"1\" class=\"dataframe\">\n",
       "  <thead>\n",
       "    <tr style=\"text-align: right;\">\n",
       "      <th></th>\n",
       "      <th>quiz_id</th>\n",
       "      <th>question_id</th>\n",
       "      <th>answer_id</th>\n",
       "      <th>answer_correct</th>\n",
       "    </tr>\n",
       "  </thead>\n",
       "  <tbody>\n",
       "    <tr>\n",
       "      <th>0</th>\n",
       "      <td>1</td>\n",
       "      <td>1</td>\n",
       "      <td>1</td>\n",
       "      <td>n</td>\n",
       "    </tr>\n",
       "    <tr>\n",
       "      <th>1</th>\n",
       "      <td>1</td>\n",
       "      <td>1</td>\n",
       "      <td>2</td>\n",
       "      <td>y</td>\n",
       "    </tr>\n",
       "    <tr>\n",
       "      <th>2</th>\n",
       "      <td>1</td>\n",
       "      <td>1</td>\n",
       "      <td>3</td>\n",
       "      <td>n</td>\n",
       "    </tr>\n",
       "  </tbody>\n",
       "</table>\n",
       "</div>"
      ],
      "text/plain": [
       "   quiz_id  question_id  answer_id answer_correct\n",
       "0        1            1          1              n\n",
       "1        1            1          2              y\n",
       "2        1            1          3              n"
      ]
     },
     "execution_count": 7,
     "metadata": {},
     "output_type": "execute_result"
    }
   ],
   "source": [
    "print(quiz_info.info())\n",
    "\n",
    "dataframe_names.append('quiz_info')\n",
    "dataframe_features.append(list(quiz_info.columns))\n",
    "\n",
    "quiz_info.head(3)"
   ]
  },
  {
   "cell_type": "markdown",
   "id": "fee581be",
   "metadata": {},
   "source": [
    "**1.5 student_engagement contains engagement_id, student_id, engagement_quizzes, engagement_exams, engagement_lessons, date_engaged**"
   ]
  },
  {
   "cell_type": "code",
   "execution_count": 8,
   "id": "326d16cf",
   "metadata": {},
   "outputs": [
    {
     "name": "stdout",
     "output_type": "stream",
     "text": [
      "<class 'pandas.core.frame.DataFrame'>\n",
      "RangeIndex: 65371 entries, 0 to 65370\n",
      "Data columns (total 6 columns):\n",
      " #   Column              Non-Null Count  Dtype \n",
      "---  ------              --------------  ----- \n",
      " 0   engagement_id       65371 non-null  int64 \n",
      " 1   student_id          65371 non-null  int64 \n",
      " 2   engagement_quizzes  65371 non-null  int64 \n",
      " 3   engagement_exams    65371 non-null  int64 \n",
      " 4   engagement_lessons  65371 non-null  int64 \n",
      " 5   date_engaged        65371 non-null  object\n",
      "dtypes: int64(5), object(1)\n",
      "memory usage: 3.0+ MB\n",
      "None\n"
     ]
    },
    {
     "data": {
      "text/html": [
       "<div>\n",
       "<style scoped>\n",
       "    .dataframe tbody tr th:only-of-type {\n",
       "        vertical-align: middle;\n",
       "    }\n",
       "\n",
       "    .dataframe tbody tr th {\n",
       "        vertical-align: top;\n",
       "    }\n",
       "\n",
       "    .dataframe thead th {\n",
       "        text-align: right;\n",
       "    }\n",
       "</style>\n",
       "<table border=\"1\" class=\"dataframe\">\n",
       "  <thead>\n",
       "    <tr style=\"text-align: right;\">\n",
       "      <th></th>\n",
       "      <th>engagement_id</th>\n",
       "      <th>student_id</th>\n",
       "      <th>engagement_quizzes</th>\n",
       "      <th>engagement_exams</th>\n",
       "      <th>engagement_lessons</th>\n",
       "      <th>date_engaged</th>\n",
       "    </tr>\n",
       "  </thead>\n",
       "  <tbody>\n",
       "    <tr>\n",
       "      <th>0</th>\n",
       "      <td>1</td>\n",
       "      <td>274999</td>\n",
       "      <td>1</td>\n",
       "      <td>1</td>\n",
       "      <td>1</td>\n",
       "      <td>2022-05-27</td>\n",
       "    </tr>\n",
       "    <tr>\n",
       "      <th>1</th>\n",
       "      <td>3</td>\n",
       "      <td>274501</td>\n",
       "      <td>0</td>\n",
       "      <td>0</td>\n",
       "      <td>1</td>\n",
       "      <td>2022-05-27</td>\n",
       "    </tr>\n",
       "    <tr>\n",
       "      <th>2</th>\n",
       "      <td>4</td>\n",
       "      <td>272842</td>\n",
       "      <td>1</td>\n",
       "      <td>1</td>\n",
       "      <td>1</td>\n",
       "      <td>2022-05-27</td>\n",
       "    </tr>\n",
       "  </tbody>\n",
       "</table>\n",
       "</div>"
      ],
      "text/plain": [
       "   engagement_id  student_id  engagement_quizzes  engagement_exams  \\\n",
       "0              1      274999                   1                 1   \n",
       "1              3      274501                   0                 0   \n",
       "2              4      272842                   1                 1   \n",
       "\n",
       "   engagement_lessons date_engaged  \n",
       "0                   1   2022-05-27  \n",
       "1                   1   2022-05-27  \n",
       "2                   1   2022-05-27  "
      ]
     },
     "execution_count": 8,
     "metadata": {},
     "output_type": "execute_result"
    }
   ],
   "source": [
    "print(student_engagement.info())\n",
    "\n",
    "dataframe_names.append('student_engagement')\n",
    "dataframe_features.append(list(student_engagement.columns))\n",
    "\n",
    "student_engagement.head(3)"
   ]
  },
  {
   "cell_type": "markdown",
   "id": "bfee71cb",
   "metadata": {},
   "source": [
    "**1.6 student_exams contains exam_attempt_id, student_id, exam_id, exam_result, exam_completion_time, date_exam_completed**"
   ]
  },
  {
   "cell_type": "code",
   "execution_count": 9,
   "id": "c5ec2e53",
   "metadata": {},
   "outputs": [
    {
     "name": "stdout",
     "output_type": "stream",
     "text": [
      "<class 'pandas.core.frame.DataFrame'>\n",
      "RangeIndex: 34030 entries, 0 to 34029\n",
      "Data columns (total 6 columns):\n",
      " #   Column                Non-Null Count  Dtype  \n",
      "---  ------                --------------  -----  \n",
      " 0   exam_attempt_id       34030 non-null  int64  \n",
      " 1   student_id            34030 non-null  int64  \n",
      " 2   exam_id               34030 non-null  int64  \n",
      " 3   exam_result           34030 non-null  int64  \n",
      " 4   exam_completion_time  34030 non-null  float64\n",
      " 5   date_exam_completed   34030 non-null  object \n",
      "dtypes: float64(1), int64(4), object(1)\n",
      "memory usage: 1.6+ MB\n",
      "None\n"
     ]
    },
    {
     "data": {
      "text/html": [
       "<div>\n",
       "<style scoped>\n",
       "    .dataframe tbody tr th:only-of-type {\n",
       "        vertical-align: middle;\n",
       "    }\n",
       "\n",
       "    .dataframe tbody tr th {\n",
       "        vertical-align: top;\n",
       "    }\n",
       "\n",
       "    .dataframe thead th {\n",
       "        text-align: right;\n",
       "    }\n",
       "</style>\n",
       "<table border=\"1\" class=\"dataframe\">\n",
       "  <thead>\n",
       "    <tr style=\"text-align: right;\">\n",
       "      <th></th>\n",
       "      <th>exam_attempt_id</th>\n",
       "      <th>student_id</th>\n",
       "      <th>exam_id</th>\n",
       "      <th>exam_result</th>\n",
       "      <th>exam_completion_time</th>\n",
       "      <th>date_exam_completed</th>\n",
       "    </tr>\n",
       "  </thead>\n",
       "  <tbody>\n",
       "    <tr>\n",
       "      <th>0</th>\n",
       "      <td>173311</td>\n",
       "      <td>258803</td>\n",
       "      <td>475</td>\n",
       "      <td>83</td>\n",
       "      <td>5.17</td>\n",
       "      <td>2022-01-01</td>\n",
       "    </tr>\n",
       "    <tr>\n",
       "      <th>1</th>\n",
       "      <td>173332</td>\n",
       "      <td>258815</td>\n",
       "      <td>380</td>\n",
       "      <td>0</td>\n",
       "      <td>10.02</td>\n",
       "      <td>2022-01-01</td>\n",
       "    </tr>\n",
       "    <tr>\n",
       "      <th>2</th>\n",
       "      <td>173333</td>\n",
       "      <td>258815</td>\n",
       "      <td>380</td>\n",
       "      <td>67</td>\n",
       "      <td>7.93</td>\n",
       "      <td>2022-01-01</td>\n",
       "    </tr>\n",
       "  </tbody>\n",
       "</table>\n",
       "</div>"
      ],
      "text/plain": [
       "   exam_attempt_id  student_id  exam_id  exam_result  exam_completion_time  \\\n",
       "0           173311      258803      475           83                  5.17   \n",
       "1           173332      258815      380            0                 10.02   \n",
       "2           173333      258815      380           67                  7.93   \n",
       "\n",
       "  date_exam_completed  \n",
       "0          2022-01-01  \n",
       "1          2022-01-01  \n",
       "2          2022-01-01  "
      ]
     },
     "execution_count": 9,
     "metadata": {},
     "output_type": "execute_result"
    }
   ],
   "source": [
    "print(student_exams.info())\n",
    "\n",
    "dataframe_names.append('student_exams')\n",
    "dataframe_features.append(list(student_exams.columns))\n",
    "\n",
    "student_exams.head(3)"
   ]
  },
  {
   "cell_type": "markdown",
   "id": "de11ce2c",
   "metadata": {},
   "source": [
    "**1.7 student_hub_questions contains hug_question_id, student_id, date_question_asked**"
   ]
  },
  {
   "cell_type": "code",
   "execution_count": 10,
   "id": "2769a66c",
   "metadata": {},
   "outputs": [
    {
     "name": "stdout",
     "output_type": "stream",
     "text": [
      "<class 'pandas.core.frame.DataFrame'>\n",
      "RangeIndex: 827 entries, 0 to 826\n",
      "Data columns (total 3 columns):\n",
      " #   Column               Non-Null Count  Dtype \n",
      "---  ------               --------------  ----- \n",
      " 0   hub_question_id      827 non-null    int64 \n",
      " 1   student_id           827 non-null    int64 \n",
      " 2   date_question_asked  827 non-null    object\n",
      "dtypes: int64(2), object(1)\n",
      "memory usage: 19.5+ KB\n",
      "None\n"
     ]
    },
    {
     "data": {
      "text/html": [
       "<div>\n",
       "<style scoped>\n",
       "    .dataframe tbody tr th:only-of-type {\n",
       "        vertical-align: middle;\n",
       "    }\n",
       "\n",
       "    .dataframe tbody tr th {\n",
       "        vertical-align: top;\n",
       "    }\n",
       "\n",
       "    .dataframe thead th {\n",
       "        text-align: right;\n",
       "    }\n",
       "</style>\n",
       "<table border=\"1\" class=\"dataframe\">\n",
       "  <thead>\n",
       "    <tr style=\"text-align: right;\">\n",
       "      <th></th>\n",
       "      <th>hub_question_id</th>\n",
       "      <th>student_id</th>\n",
       "      <th>date_question_asked</th>\n",
       "    </tr>\n",
       "  </thead>\n",
       "  <tbody>\n",
       "    <tr>\n",
       "      <th>0</th>\n",
       "      <td>7619</td>\n",
       "      <td>258803</td>\n",
       "      <td>2022-01-03</td>\n",
       "    </tr>\n",
       "    <tr>\n",
       "      <th>1</th>\n",
       "      <td>7630</td>\n",
       "      <td>258803</td>\n",
       "      <td>2022-01-04</td>\n",
       "    </tr>\n",
       "    <tr>\n",
       "      <th>2</th>\n",
       "      <td>7662</td>\n",
       "      <td>259342</td>\n",
       "      <td>2022-01-05</td>\n",
       "    </tr>\n",
       "  </tbody>\n",
       "</table>\n",
       "</div>"
      ],
      "text/plain": [
       "   hub_question_id  student_id date_question_asked\n",
       "0             7619      258803          2022-01-03\n",
       "1             7630      258803          2022-01-04\n",
       "2             7662      259342          2022-01-05"
      ]
     },
     "execution_count": 10,
     "metadata": {},
     "output_type": "execute_result"
    }
   ],
   "source": [
    "print(student_hub_questions.info())\n",
    "\n",
    "dataframe_names.append('student_hub_questions')\n",
    "dataframe_features.append(list(student_hub_questions.columns))\n",
    "\n",
    "student_hub_questions.head(3)"
   ]
  },
  {
   "cell_type": "markdown",
   "id": "a86dea73",
   "metadata": {},
   "source": [
    "**1.8 student_info contains student_id, student_country and date_registered**"
   ]
  },
  {
   "cell_type": "code",
   "execution_count": 11,
   "id": "9bc512f8",
   "metadata": {},
   "outputs": [
    {
     "name": "stdout",
     "output_type": "stream",
     "text": [
      "<class 'pandas.core.frame.DataFrame'>\n",
      "RangeIndex: 35230 entries, 0 to 35229\n",
      "Data columns (total 3 columns):\n",
      " #   Column           Non-Null Count  Dtype \n",
      "---  ------           --------------  ----- \n",
      " 0   student_id       35230 non-null  int64 \n",
      " 1   student_country  35217 non-null  object\n",
      " 2   date_registered  35230 non-null  object\n",
      "dtypes: int64(1), object(2)\n",
      "memory usage: 825.8+ KB\n",
      "None\n"
     ]
    },
    {
     "data": {
      "text/html": [
       "<div>\n",
       "<style scoped>\n",
       "    .dataframe tbody tr th:only-of-type {\n",
       "        vertical-align: middle;\n",
       "    }\n",
       "\n",
       "    .dataframe tbody tr th {\n",
       "        vertical-align: top;\n",
       "    }\n",
       "\n",
       "    .dataframe thead th {\n",
       "        text-align: right;\n",
       "    }\n",
       "</style>\n",
       "<table border=\"1\" class=\"dataframe\">\n",
       "  <thead>\n",
       "    <tr style=\"text-align: right;\">\n",
       "      <th></th>\n",
       "      <th>student_id</th>\n",
       "      <th>student_country</th>\n",
       "      <th>date_registered</th>\n",
       "    </tr>\n",
       "  </thead>\n",
       "  <tbody>\n",
       "    <tr>\n",
       "      <th>0</th>\n",
       "      <td>258798</td>\n",
       "      <td>IN</td>\n",
       "      <td>2022-01-01</td>\n",
       "    </tr>\n",
       "    <tr>\n",
       "      <th>1</th>\n",
       "      <td>258799</td>\n",
       "      <td>CO</td>\n",
       "      <td>2022-01-01</td>\n",
       "    </tr>\n",
       "    <tr>\n",
       "      <th>2</th>\n",
       "      <td>258800</td>\n",
       "      <td>CA</td>\n",
       "      <td>2022-01-01</td>\n",
       "    </tr>\n",
       "  </tbody>\n",
       "</table>\n",
       "</div>"
      ],
      "text/plain": [
       "   student_id student_country date_registered\n",
       "0      258798              IN      2022-01-01\n",
       "1      258799              CO      2022-01-01\n",
       "2      258800              CA      2022-01-01"
      ]
     },
     "execution_count": 11,
     "metadata": {},
     "output_type": "execute_result"
    }
   ],
   "source": [
    "print(student_info.info())\n",
    "\n",
    "dataframe_names.append('student_info')\n",
    "dataframe_features.append(list(student_info.columns))\n",
    "\n",
    "student_info.head(3)"
   ]
  },
  {
   "cell_type": "markdown",
   "id": "a5ec98e5",
   "metadata": {},
   "source": [
    "**1.9 student_learning dataframe contains student_id, course_id, minutes_watched and date_watched**"
   ]
  },
  {
   "cell_type": "code",
   "execution_count": 12,
   "id": "ecaefbf7",
   "metadata": {},
   "outputs": [
    {
     "name": "stdout",
     "output_type": "stream",
     "text": [
      "<class 'pandas.core.frame.DataFrame'>\n",
      "RangeIndex: 64535 entries, 0 to 64534\n",
      "Data columns (total 4 columns):\n",
      " #   Column           Non-Null Count  Dtype  \n",
      "---  ------           --------------  -----  \n",
      " 0   student_id       64535 non-null  int64  \n",
      " 1   course_id        64535 non-null  int64  \n",
      " 2   minutes_watched  64535 non-null  float64\n",
      " 3   date_watched     64535 non-null  object \n",
      "dtypes: float64(1), int64(2), object(1)\n",
      "memory usage: 2.0+ MB\n",
      "None\n"
     ]
    },
    {
     "data": {
      "text/html": [
       "<div>\n",
       "<style scoped>\n",
       "    .dataframe tbody tr th:only-of-type {\n",
       "        vertical-align: middle;\n",
       "    }\n",
       "\n",
       "    .dataframe tbody tr th {\n",
       "        vertical-align: top;\n",
       "    }\n",
       "\n",
       "    .dataframe thead th {\n",
       "        text-align: right;\n",
       "    }\n",
       "</style>\n",
       "<table border=\"1\" class=\"dataframe\">\n",
       "  <thead>\n",
       "    <tr style=\"text-align: right;\">\n",
       "      <th></th>\n",
       "      <th>student_id</th>\n",
       "      <th>course_id</th>\n",
       "      <th>minutes_watched</th>\n",
       "      <th>date_watched</th>\n",
       "    </tr>\n",
       "  </thead>\n",
       "  <tbody>\n",
       "    <tr>\n",
       "      <th>0</th>\n",
       "      <td>258798</td>\n",
       "      <td>23</td>\n",
       "      <td>0.3</td>\n",
       "      <td>2022-01-01</td>\n",
       "    </tr>\n",
       "    <tr>\n",
       "      <th>1</th>\n",
       "      <td>258800</td>\n",
       "      <td>2</td>\n",
       "      <td>12.9</td>\n",
       "      <td>2022-04-01</td>\n",
       "    </tr>\n",
       "    <tr>\n",
       "      <th>2</th>\n",
       "      <td>258800</td>\n",
       "      <td>7</td>\n",
       "      <td>46.8</td>\n",
       "      <td>2022-01-03</td>\n",
       "    </tr>\n",
       "  </tbody>\n",
       "</table>\n",
       "</div>"
      ],
      "text/plain": [
       "   student_id  course_id  minutes_watched date_watched\n",
       "0      258798         23              0.3   2022-01-01\n",
       "1      258800          2             12.9   2022-04-01\n",
       "2      258800          7             46.8   2022-01-03"
      ]
     },
     "execution_count": 12,
     "metadata": {},
     "output_type": "execute_result"
    }
   ],
   "source": [
    "print(student_learning.info())\n",
    "\n",
    "dataframe_names.append('student_learning')\n",
    "dataframe_features.append(list(student_learning.columns))\n",
    "\n",
    "student_learning.head(3)"
   ]
  },
  {
   "cell_type": "markdown",
   "id": "d935e206",
   "metadata": {},
   "source": [
    "**1.10 student_purchases dataframe contains purchase_id, student_id, purchase_type, date_purchased**"
   ]
  },
  {
   "cell_type": "code",
   "execution_count": 13,
   "id": "d88bc8fd",
   "metadata": {},
   "outputs": [
    {
     "name": "stdout",
     "output_type": "stream",
     "text": [
      "<class 'pandas.core.frame.DataFrame'>\n",
      "RangeIndex: 3041 entries, 0 to 3040\n",
      "Data columns (total 4 columns):\n",
      " #   Column          Non-Null Count  Dtype \n",
      "---  ------          --------------  ----- \n",
      " 0   purchase_id     3041 non-null   int64 \n",
      " 1   student_id      3041 non-null   int64 \n",
      " 2   purchase_type   3041 non-null   object\n",
      " 3   date_purchased  3041 non-null   object\n",
      "dtypes: int64(2), object(2)\n",
      "memory usage: 95.2+ KB\n",
      "None\n"
     ]
    },
    {
     "data": {
      "text/html": [
       "<div>\n",
       "<style scoped>\n",
       "    .dataframe tbody tr th:only-of-type {\n",
       "        vertical-align: middle;\n",
       "    }\n",
       "\n",
       "    .dataframe tbody tr th {\n",
       "        vertical-align: top;\n",
       "    }\n",
       "\n",
       "    .dataframe thead th {\n",
       "        text-align: right;\n",
       "    }\n",
       "</style>\n",
       "<table border=\"1\" class=\"dataframe\">\n",
       "  <thead>\n",
       "    <tr style=\"text-align: right;\">\n",
       "      <th></th>\n",
       "      <th>purchase_id</th>\n",
       "      <th>student_id</th>\n",
       "      <th>purchase_type</th>\n",
       "      <th>date_purchased</th>\n",
       "    </tr>\n",
       "  </thead>\n",
       "  <tbody>\n",
       "    <tr>\n",
       "      <th>0</th>\n",
       "      <td>15781</td>\n",
       "      <td>258800</td>\n",
       "      <td>Annual</td>\n",
       "      <td>2022-01-01</td>\n",
       "    </tr>\n",
       "    <tr>\n",
       "      <th>1</th>\n",
       "      <td>15786</td>\n",
       "      <td>258803</td>\n",
       "      <td>Annual</td>\n",
       "      <td>2022-01-01</td>\n",
       "    </tr>\n",
       "    <tr>\n",
       "      <th>2</th>\n",
       "      <td>15808</td>\n",
       "      <td>258862</td>\n",
       "      <td>Annual</td>\n",
       "      <td>2022-01-01</td>\n",
       "    </tr>\n",
       "  </tbody>\n",
       "</table>\n",
       "</div>"
      ],
      "text/plain": [
       "   purchase_id  student_id purchase_type date_purchased\n",
       "0        15781      258800        Annual     2022-01-01\n",
       "1        15786      258803        Annual     2022-01-01\n",
       "2        15808      258862        Annual     2022-01-01"
      ]
     },
     "execution_count": 13,
     "metadata": {},
     "output_type": "execute_result"
    }
   ],
   "source": [
    "print(student_purchases.info())\n",
    "\n",
    "dataframe_names.append('student_purchases')\n",
    "dataframe_features.append(list(student_purchases.columns))\n",
    "\n",
    "student_purchases.head(3)"
   ]
  },
  {
   "cell_type": "markdown",
   "id": "4e82f3e7",
   "metadata": {},
   "source": [
    "**1.11 student_quizzes dataframe contain student_id, quiz_id, question_id and answer_id**"
   ]
  },
  {
   "cell_type": "code",
   "execution_count": 14,
   "id": "045e13d5",
   "metadata": {},
   "outputs": [
    {
     "name": "stdout",
     "output_type": "stream",
     "text": [
      "<class 'pandas.core.frame.DataFrame'>\n",
      "RangeIndex: 147029 entries, 0 to 147028\n",
      "Data columns (total 4 columns):\n",
      " #   Column       Non-Null Count   Dtype  \n",
      "---  ------       --------------   -----  \n",
      " 0   student_id   147029 non-null  int64  \n",
      " 1   quiz_id      147029 non-null  int64  \n",
      " 2   question_id  147029 non-null  int64  \n",
      " 3   answer_id    146800 non-null  float64\n",
      "dtypes: float64(1), int64(3)\n",
      "memory usage: 4.5 MB\n",
      "None\n"
     ]
    },
    {
     "data": {
      "text/html": [
       "<div>\n",
       "<style scoped>\n",
       "    .dataframe tbody tr th:only-of-type {\n",
       "        vertical-align: middle;\n",
       "    }\n",
       "\n",
       "    .dataframe tbody tr th {\n",
       "        vertical-align: top;\n",
       "    }\n",
       "\n",
       "    .dataframe thead th {\n",
       "        text-align: right;\n",
       "    }\n",
       "</style>\n",
       "<table border=\"1\" class=\"dataframe\">\n",
       "  <thead>\n",
       "    <tr style=\"text-align: right;\">\n",
       "      <th></th>\n",
       "      <th>student_id</th>\n",
       "      <th>quiz_id</th>\n",
       "      <th>question_id</th>\n",
       "      <th>answer_id</th>\n",
       "    </tr>\n",
       "  </thead>\n",
       "  <tbody>\n",
       "    <tr>\n",
       "      <th>0</th>\n",
       "      <td>258803</td>\n",
       "      <td>537</td>\n",
       "      <td>796</td>\n",
       "      <td>3139.0</td>\n",
       "    </tr>\n",
       "    <tr>\n",
       "      <th>1</th>\n",
       "      <td>258803</td>\n",
       "      <td>159</td>\n",
       "      <td>793</td>\n",
       "      <td>3127.0</td>\n",
       "    </tr>\n",
       "    <tr>\n",
       "      <th>2</th>\n",
       "      <td>258803</td>\n",
       "      <td>159</td>\n",
       "      <td>794</td>\n",
       "      <td>3132.0</td>\n",
       "    </tr>\n",
       "  </tbody>\n",
       "</table>\n",
       "</div>"
      ],
      "text/plain": [
       "   student_id  quiz_id  question_id  answer_id\n",
       "0      258803      537          796     3139.0\n",
       "1      258803      159          793     3127.0\n",
       "2      258803      159          794     3132.0"
      ]
     },
     "execution_count": 14,
     "metadata": {},
     "output_type": "execute_result"
    }
   ],
   "source": [
    "print(student_quizzes.info())\n",
    "\n",
    "dataframe_names.append('student_quizzes')\n",
    "dataframe_features.append(list(student_quizzes.columns))\n",
    "\n",
    "student_quizzes.head(3)"
   ]
  },
  {
   "cell_type": "markdown",
   "id": "2ab3d739",
   "metadata": {},
   "source": [
    "Now, that all the data set files are parsed, let's store the names of all data frames and their corresponding columns together. "
   ]
  },
  {
   "cell_type": "code",
   "execution_count": 15,
   "id": "44c95ed9",
   "metadata": {},
   "outputs": [
    {
     "data": {
      "text/html": [
       "<div>\n",
       "<style scoped>\n",
       "    .dataframe tbody tr th:only-of-type {\n",
       "        vertical-align: middle;\n",
       "    }\n",
       "\n",
       "    .dataframe tbody tr th {\n",
       "        vertical-align: top;\n",
       "    }\n",
       "\n",
       "    .dataframe thead th {\n",
       "        text-align: right;\n",
       "    }\n",
       "</style>\n",
       "<table border=\"1\" class=\"dataframe\">\n",
       "  <thead>\n",
       "    <tr style=\"text-align: right;\">\n",
       "      <th></th>\n",
       "      <th>dataframe_names</th>\n",
       "      <th>dataframe_features</th>\n",
       "    </tr>\n",
       "  </thead>\n",
       "  <tbody>\n",
       "    <tr>\n",
       "      <th>0</th>\n",
       "      <td>course_info</td>\n",
       "      <td>[course_id, course_title]</td>\n",
       "    </tr>\n",
       "    <tr>\n",
       "      <th>1</th>\n",
       "      <td>course_ratings</td>\n",
       "      <td>[course_id, student_id, course_rating, date_rated]</td>\n",
       "    </tr>\n",
       "    <tr>\n",
       "      <th>2</th>\n",
       "      <td>exam_info</td>\n",
       "      <td>[exam_id, exam_category, exam_duration]</td>\n",
       "    </tr>\n",
       "    <tr>\n",
       "      <th>3</th>\n",
       "      <td>quiz_info</td>\n",
       "      <td>[quiz_id, question_id, answer_id, answer_correct]</td>\n",
       "    </tr>\n",
       "    <tr>\n",
       "      <th>4</th>\n",
       "      <td>student_engagement</td>\n",
       "      <td>[engagement_id, student_id, engagement_quizzes, engagement_exams, engagement_lessons, date_engaged]</td>\n",
       "    </tr>\n",
       "    <tr>\n",
       "      <th>5</th>\n",
       "      <td>student_exams</td>\n",
       "      <td>[exam_attempt_id, student_id, exam_id, exam_result, exam_completion_time, date_exam_completed]</td>\n",
       "    </tr>\n",
       "    <tr>\n",
       "      <th>6</th>\n",
       "      <td>student_hub_questions</td>\n",
       "      <td>[hub_question_id, student_id, date_question_asked]</td>\n",
       "    </tr>\n",
       "    <tr>\n",
       "      <th>7</th>\n",
       "      <td>student_info</td>\n",
       "      <td>[student_id, student_country, date_registered]</td>\n",
       "    </tr>\n",
       "    <tr>\n",
       "      <th>8</th>\n",
       "      <td>student_learning</td>\n",
       "      <td>[student_id, course_id, minutes_watched, date_watched]</td>\n",
       "    </tr>\n",
       "    <tr>\n",
       "      <th>9</th>\n",
       "      <td>student_purchases</td>\n",
       "      <td>[purchase_id, student_id, purchase_type, date_purchased]</td>\n",
       "    </tr>\n",
       "    <tr>\n",
       "      <th>10</th>\n",
       "      <td>student_quizzes</td>\n",
       "      <td>[student_id, quiz_id, question_id, answer_id]</td>\n",
       "    </tr>\n",
       "  </tbody>\n",
       "</table>\n",
       "</div>"
      ],
      "text/plain": [
       "          dataframe_names  \\\n",
       "0             course_info   \n",
       "1          course_ratings   \n",
       "2               exam_info   \n",
       "3               quiz_info   \n",
       "4      student_engagement   \n",
       "5           student_exams   \n",
       "6   student_hub_questions   \n",
       "7            student_info   \n",
       "8        student_learning   \n",
       "9       student_purchases   \n",
       "10        student_quizzes   \n",
       "\n",
       "                                                                                     dataframe_features  \n",
       "0                                                                             [course_id, course_title]  \n",
       "1                                                    [course_id, student_id, course_rating, date_rated]  \n",
       "2                                                               [exam_id, exam_category, exam_duration]  \n",
       "3                                                     [quiz_id, question_id, answer_id, answer_correct]  \n",
       "4   [engagement_id, student_id, engagement_quizzes, engagement_exams, engagement_lessons, date_engaged]  \n",
       "5        [exam_attempt_id, student_id, exam_id, exam_result, exam_completion_time, date_exam_completed]  \n",
       "6                                                    [hub_question_id, student_id, date_question_asked]  \n",
       "7                                                        [student_id, student_country, date_registered]  \n",
       "8                                                [student_id, course_id, minutes_watched, date_watched]  \n",
       "9                                              [purchase_id, student_id, purchase_type, date_purchased]  \n",
       "10                                                        [student_id, quiz_id, question_id, answer_id]  "
      ]
     },
     "execution_count": 15,
     "metadata": {},
     "output_type": "execute_result"
    }
   ],
   "source": [
    "dataset_info = pd.DataFrame({'dataframe_names' : dataframe_names, 'dataframe_features': dataframe_features})\n",
    "dataset_info"
   ]
  },
  {
   "cell_type": "markdown",
   "id": "d642fd4d",
   "metadata": {},
   "source": [
    "Our problem statement is to predict whether student will purchase the subscription or not. So, the student is the primary independent feature and the purchase made/not made is the target feature. Our task here is to create features based on student's engagement with the platform for the first 15 days and based on it, determine whether the student is likely to make purchase or not. "
   ]
  },
  {
   "cell_type": "code",
   "execution_count": 16,
   "id": "17b93972",
   "metadata": {},
   "outputs": [
    {
     "data": {
      "text/plain": [
       "(35230, 2135)"
      ]
     },
     "execution_count": 16,
     "metadata": {},
     "output_type": "execute_result"
    }
   ],
   "source": [
    "len(np.unique(student_info.student_id)), len(np.unique(student_purchases.student_id))"
   ]
  },
  {
   "cell_type": "markdown",
   "id": "8a0000f2",
   "metadata": {},
   "source": [
    "So there are total of 35230 students out of which only 2135 students seem to have purchased the course. "
   ]
  },
  {
   "cell_type": "code",
   "execution_count": 17,
   "id": "43e5f244",
   "metadata": {},
   "outputs": [
    {
     "name": "stdout",
     "output_type": "stream",
     "text": [
      "<class 'pandas.core.frame.DataFrame'>\n",
      "Int64Index: 36136 entries, 0 to 36135\n",
      "Data columns (total 6 columns):\n",
      " #   Column           Non-Null Count  Dtype  \n",
      "---  ------           --------------  -----  \n",
      " 0   student_id       36136 non-null  int64  \n",
      " 1   student_country  36123 non-null  object \n",
      " 2   date_registered  36136 non-null  object \n",
      " 3   purchase_id      3041 non-null   float64\n",
      " 4   purchase_type    3041 non-null   object \n",
      " 5   date_purchased   3041 non-null   object \n",
      "dtypes: float64(1), int64(1), object(4)\n",
      "memory usage: 1.9+ MB\n"
     ]
    },
    {
     "data": {
      "text/html": [
       "<div>\n",
       "<style scoped>\n",
       "    .dataframe tbody tr th:only-of-type {\n",
       "        vertical-align: middle;\n",
       "    }\n",
       "\n",
       "    .dataframe tbody tr th {\n",
       "        vertical-align: top;\n",
       "    }\n",
       "\n",
       "    .dataframe thead th {\n",
       "        text-align: right;\n",
       "    }\n",
       "</style>\n",
       "<table border=\"1\" class=\"dataframe\">\n",
       "  <thead>\n",
       "    <tr style=\"text-align: right;\">\n",
       "      <th></th>\n",
       "      <th>student_id</th>\n",
       "      <th>student_country</th>\n",
       "      <th>date_registered</th>\n",
       "      <th>purchase_id</th>\n",
       "      <th>purchase_type</th>\n",
       "      <th>date_purchased</th>\n",
       "    </tr>\n",
       "  </thead>\n",
       "  <tbody>\n",
       "    <tr>\n",
       "      <th>0</th>\n",
       "      <td>258798</td>\n",
       "      <td>IN</td>\n",
       "      <td>2022-01-01</td>\n",
       "      <td>NaN</td>\n",
       "      <td>NaN</td>\n",
       "      <td>NaN</td>\n",
       "    </tr>\n",
       "    <tr>\n",
       "      <th>1</th>\n",
       "      <td>258799</td>\n",
       "      <td>CO</td>\n",
       "      <td>2022-01-01</td>\n",
       "      <td>NaN</td>\n",
       "      <td>NaN</td>\n",
       "      <td>NaN</td>\n",
       "    </tr>\n",
       "    <tr>\n",
       "      <th>2</th>\n",
       "      <td>258800</td>\n",
       "      <td>CA</td>\n",
       "      <td>2022-01-01</td>\n",
       "      <td>15781.0</td>\n",
       "      <td>Annual</td>\n",
       "      <td>2022-01-01</td>\n",
       "    </tr>\n",
       "    <tr>\n",
       "      <th>3</th>\n",
       "      <td>258801</td>\n",
       "      <td>IN</td>\n",
       "      <td>2022-01-01</td>\n",
       "      <td>NaN</td>\n",
       "      <td>NaN</td>\n",
       "      <td>NaN</td>\n",
       "    </tr>\n",
       "    <tr>\n",
       "      <th>4</th>\n",
       "      <td>258802</td>\n",
       "      <td>US</td>\n",
       "      <td>2022-01-01</td>\n",
       "      <td>NaN</td>\n",
       "      <td>NaN</td>\n",
       "      <td>NaN</td>\n",
       "    </tr>\n",
       "  </tbody>\n",
       "</table>\n",
       "</div>"
      ],
      "text/plain": [
       "   student_id student_country date_registered  purchase_id purchase_type  \\\n",
       "0      258798              IN      2022-01-01          NaN           NaN   \n",
       "1      258799              CO      2022-01-01          NaN           NaN   \n",
       "2      258800              CA      2022-01-01      15781.0        Annual   \n",
       "3      258801              IN      2022-01-01          NaN           NaN   \n",
       "4      258802              US      2022-01-01          NaN           NaN   \n",
       "\n",
       "  date_purchased  \n",
       "0            NaN  \n",
       "1            NaN  \n",
       "2     2022-01-01  \n",
       "3            NaN  \n",
       "4            NaN  "
      ]
     },
     "execution_count": 17,
     "metadata": {},
     "output_type": "execute_result"
    }
   ],
   "source": [
    "# combine the student info dataframe with the student purchases dataframe\n",
    "df = student_info.merge(student_purchases, on=['student_id'], how='left')\n",
    "df.info()\n",
    "df.head()"
   ]
  },
  {
   "cell_type": "markdown",
   "id": "6e1b48e7",
   "metadata": {},
   "source": [
    "Convert the date feature which is of string object datatype into 'datetime' datatype"
   ]
  },
  {
   "cell_type": "code",
   "execution_count": 18,
   "id": "0d5c9376",
   "metadata": {},
   "outputs": [],
   "source": [
    "df.date_registered = pd.to_datetime(df.date_registered)\n",
    "df.date_purchased = pd.to_datetime(df.date_purchased)"
   ]
  },
  {
   "cell_type": "markdown",
   "id": "99f48f70",
   "metadata": {},
   "source": [
    "Let us plot a graph to know how much time a user takes to buy subscription"
   ]
  },
  {
   "cell_type": "code",
   "execution_count": 19,
   "id": "cdfb1924",
   "metadata": {},
   "outputs": [
    {
     "data": {
      "text/plain": [
       "<AxesSubplot:>"
      ]
     },
     "execution_count": 19,
     "metadata": {},
     "output_type": "execute_result"
    },
    {
     "data": {
      "image/png": "[encoded data removed]",
      "text/plain": [
       "<Figure size 640x480 with 1 Axes>"
      ]
     },
     "metadata": {},
     "output_type": "display_data"
    }
   ],
   "source": [
    "(df.date_purchased - df.date_registered).value_counts().plot()"
   ]
  },
  {
   "cell_type": "code",
   "execution_count": 20,
   "id": "7a288adf",
   "metadata": {},
   "outputs": [],
   "source": [
    "df['days_taken'] = df.date_purchased - df.date_registered"
   ]
  },
  {
   "cell_type": "code",
   "execution_count": 21,
   "id": "7fdf8b0d",
   "metadata": {},
   "outputs": [
    {
     "data": {
      "text/html": [
       "<div>\n",
       "<style scoped>\n",
       "    .dataframe tbody tr th:only-of-type {\n",
       "        vertical-align: middle;\n",
       "    }\n",
       "\n",
       "    .dataframe tbody tr th {\n",
       "        vertical-align: top;\n",
       "    }\n",
       "\n",
       "    .dataframe thead th {\n",
       "        text-align: right;\n",
       "    }\n",
       "</style>\n",
       "<table border=\"1\" class=\"dataframe\">\n",
       "  <thead>\n",
       "    <tr style=\"text-align: right;\">\n",
       "      <th></th>\n",
       "      <th>student_id</th>\n",
       "      <th>student_country</th>\n",
       "      <th>date_registered</th>\n",
       "      <th>purchase_id</th>\n",
       "      <th>purchase_type</th>\n",
       "      <th>date_purchased</th>\n",
       "      <th>days_taken</th>\n",
       "    </tr>\n",
       "  </thead>\n",
       "  <tbody>\n",
       "    <tr>\n",
       "      <th>0</th>\n",
       "      <td>258798</td>\n",
       "      <td>IN</td>\n",
       "      <td>2022-01-01</td>\n",
       "      <td>NaN</td>\n",
       "      <td>NaN</td>\n",
       "      <td>NaT</td>\n",
       "      <td>NaT</td>\n",
       "    </tr>\n",
       "    <tr>\n",
       "      <th>1</th>\n",
       "      <td>258799</td>\n",
       "      <td>CO</td>\n",
       "      <td>2022-01-01</td>\n",
       "      <td>NaN</td>\n",
       "      <td>NaN</td>\n",
       "      <td>NaT</td>\n",
       "      <td>NaT</td>\n",
       "    </tr>\n",
       "    <tr>\n",
       "      <th>2</th>\n",
       "      <td>258800</td>\n",
       "      <td>CA</td>\n",
       "      <td>2022-01-01</td>\n",
       "      <td>15781.0</td>\n",
       "      <td>Annual</td>\n",
       "      <td>2022-01-01</td>\n",
       "      <td>0 days</td>\n",
       "    </tr>\n",
       "    <tr>\n",
       "      <th>3</th>\n",
       "      <td>258801</td>\n",
       "      <td>IN</td>\n",
       "      <td>2022-01-01</td>\n",
       "      <td>NaN</td>\n",
       "      <td>NaN</td>\n",
       "      <td>NaT</td>\n",
       "      <td>NaT</td>\n",
       "    </tr>\n",
       "    <tr>\n",
       "      <th>4</th>\n",
       "      <td>258802</td>\n",
       "      <td>US</td>\n",
       "      <td>2022-01-01</td>\n",
       "      <td>NaN</td>\n",
       "      <td>NaN</td>\n",
       "      <td>NaT</td>\n",
       "      <td>NaT</td>\n",
       "    </tr>\n",
       "  </tbody>\n",
       "</table>\n",
       "</div>"
      ],
      "text/plain": [
       "   student_id student_country date_registered  purchase_id purchase_type  \\\n",
       "0      258798              IN      2022-01-01          NaN           NaN   \n",
       "1      258799              CO      2022-01-01          NaN           NaN   \n",
       "2      258800              CA      2022-01-01      15781.0        Annual   \n",
       "3      258801              IN      2022-01-01          NaN           NaN   \n",
       "4      258802              US      2022-01-01          NaN           NaN   \n",
       "\n",
       "  date_purchased days_taken  \n",
       "0            NaT        NaT  \n",
       "1            NaT        NaT  \n",
       "2     2022-01-01     0 days  \n",
       "3            NaT        NaT  \n",
       "4            NaT        NaT  "
      ]
     },
     "execution_count": 21,
     "metadata": {},
     "output_type": "execute_result"
    }
   ],
   "source": [
    "df.head()"
   ]
  },
  {
   "cell_type": "markdown",
   "id": "bded16c2",
   "metadata": {},
   "source": [
    "Majority of the users seem to have bought the subscription on the first day itself i.e. the day user registered. Our problem statement however is about the users who are currently free users and we need to predict whether they are likely to buy subscription in near future. So, we are going to consider only those users who have NOT purchased the subscription on the same day they registered. One of the limitations of this data is that, we don't have the timestamp of exactly when the user signed up and when the user bought the subscription, otherwise we would have analysed the user activity between these two time segments. "
   ]
  },
  {
   "cell_type": "code",
   "execution_count": 22,
   "id": "a981e62d",
   "metadata": {},
   "outputs": [],
   "source": [
    "df = df[df['days_taken'] != '0 days']"
   ]
  },
  {
   "cell_type": "markdown",
   "id": "33b9c1d7",
   "metadata": {},
   "source": [
    "There will also be students who have bought the subscription twice. But as our problem statement is concerned only about customer acquisition i.e. when the user buys the subscription for the very first time, we will ignore the records where the customer is buying the subscription again and restrict ourselves to the cases where the user had bought the subscription for the very first time."
   ]
  },
  {
   "cell_type": "code",
   "execution_count": 23,
   "id": "04ba4df4",
   "metadata": {},
   "outputs": [
    {
     "data": {
      "text/plain": [
       "(2020, 1264)"
      ]
     },
     "execution_count": 23,
     "metadata": {},
     "output_type": "execute_result"
    }
   ],
   "source": [
    "len(df[~df.purchase_id.isna()].student_id), len(df[~df.purchase_id.isna()].student_id.unique())"
   ]
  },
  {
   "cell_type": "markdown",
   "id": "5efba31a",
   "metadata": {},
   "source": [
    "So there are 2020 users who had bought subscription out of which only 1264 are unique, which implies that 756 users had re-subscribed i.e they are returning users. \n",
    "\n",
    "So, we will now, consider those returning users only once and their record when they had first subscribed."
   ]
  },
  {
   "cell_type": "code",
   "execution_count": 24,
   "id": "d1aeea27",
   "metadata": {},
   "outputs": [
    {
     "name": "stdout",
     "output_type": "stream",
     "text": [
      "(34359, 7)\n"
     ]
    },
    {
     "data": {
      "text/html": [
       "<div>\n",
       "<style scoped>\n",
       "    .dataframe tbody tr th:only-of-type {\n",
       "        vertical-align: middle;\n",
       "    }\n",
       "\n",
       "    .dataframe tbody tr th {\n",
       "        vertical-align: top;\n",
       "    }\n",
       "\n",
       "    .dataframe thead th {\n",
       "        text-align: right;\n",
       "    }\n",
       "</style>\n",
       "<table border=\"1\" class=\"dataframe\">\n",
       "  <thead>\n",
       "    <tr style=\"text-align: right;\">\n",
       "      <th></th>\n",
       "      <th>student_id</th>\n",
       "      <th>student_country</th>\n",
       "      <th>date_registered</th>\n",
       "      <th>purchase_id</th>\n",
       "      <th>purchase_type</th>\n",
       "      <th>date_purchased</th>\n",
       "      <th>days_taken</th>\n",
       "    </tr>\n",
       "  </thead>\n",
       "  <tbody>\n",
       "    <tr>\n",
       "      <th>0</th>\n",
       "      <td>258798</td>\n",
       "      <td>IN</td>\n",
       "      <td>2022-01-01</td>\n",
       "      <td>NaN</td>\n",
       "      <td>NaN</td>\n",
       "      <td>NaT</td>\n",
       "      <td>NaT</td>\n",
       "    </tr>\n",
       "    <tr>\n",
       "      <th>1</th>\n",
       "      <td>258799</td>\n",
       "      <td>CO</td>\n",
       "      <td>2022-01-01</td>\n",
       "      <td>NaN</td>\n",
       "      <td>NaN</td>\n",
       "      <td>NaT</td>\n",
       "      <td>NaT</td>\n",
       "    </tr>\n",
       "    <tr>\n",
       "      <th>3</th>\n",
       "      <td>258801</td>\n",
       "      <td>IN</td>\n",
       "      <td>2022-01-01</td>\n",
       "      <td>NaN</td>\n",
       "      <td>NaN</td>\n",
       "      <td>NaT</td>\n",
       "      <td>NaT</td>\n",
       "    </tr>\n",
       "    <tr>\n",
       "      <th>4</th>\n",
       "      <td>258802</td>\n",
       "      <td>US</td>\n",
       "      <td>2022-01-01</td>\n",
       "      <td>NaN</td>\n",
       "      <td>NaN</td>\n",
       "      <td>NaT</td>\n",
       "      <td>NaT</td>\n",
       "    </tr>\n",
       "    <tr>\n",
       "      <th>6</th>\n",
       "      <td>258804</td>\n",
       "      <td>BD</td>\n",
       "      <td>2022-01-01</td>\n",
       "      <td>NaN</td>\n",
       "      <td>NaN</td>\n",
       "      <td>NaT</td>\n",
       "      <td>NaT</td>\n",
       "    </tr>\n",
       "  </tbody>\n",
       "</table>\n",
       "</div>"
      ],
      "text/plain": [
       "   student_id student_country date_registered  purchase_id purchase_type  \\\n",
       "0      258798              IN      2022-01-01          NaN           NaN   \n",
       "1      258799              CO      2022-01-01          NaN           NaN   \n",
       "3      258801              IN      2022-01-01          NaN           NaN   \n",
       "4      258802              US      2022-01-01          NaN           NaN   \n",
       "6      258804              BD      2022-01-01          NaN           NaN   \n",
       "\n",
       "  date_purchased days_taken  \n",
       "0            NaT        NaT  \n",
       "1            NaT        NaT  \n",
       "3            NaT        NaT  \n",
       "4            NaT        NaT  \n",
       "6            NaT        NaT  "
      ]
     },
     "execution_count": 24,
     "metadata": {},
     "output_type": "execute_result"
    }
   ],
   "source": [
    "# sorting the dataframe by student id, date registered and date pruchased as we will be dropping the resubscribed row\n",
    "df = df.sort_values(by = ['student_id','date_registered', 'date_purchased'] )\n",
    "\n",
    "# dropping dupicates based on student id and date registered and keeping the records where they had first purchased the \n",
    "# subscription\n",
    "df = df.drop_duplicates(subset=['student_id','date_registered'], keep='first')\n",
    "\n",
    "print(df.shape)\n",
    "df.head()"
   ]
  },
  {
   "cell_type": "code",
   "execution_count": 25,
   "id": "d27c91e0",
   "metadata": {},
   "outputs": [
    {
     "name": "stdout",
     "output_type": "stream",
     "text": [
      "<class 'pandas.core.frame.DataFrame'>\n",
      "Int64Index: 34359 entries, 0 to 36135\n",
      "Data columns (total 7 columns):\n",
      " #   Column           Non-Null Count  Dtype          \n",
      "---  ------           --------------  -----          \n",
      " 0   student_id       34359 non-null  int64          \n",
      " 1   student_country  34346 non-null  object         \n",
      " 2   date_registered  34359 non-null  datetime64[ns] \n",
      " 3   purchase_id      1264 non-null   float64        \n",
      " 4   purchase_type    1264 non-null   object         \n",
      " 5   date_purchased   1264 non-null   datetime64[ns] \n",
      " 6   days_taken       1264 non-null   timedelta64[ns]\n",
      "dtypes: datetime64[ns](2), float64(1), int64(1), object(2), timedelta64[ns](1)\n",
      "memory usage: 2.1+ MB\n"
     ]
    }
   ],
   "source": [
    "df.info()"
   ]
  },
  {
   "cell_type": "code",
   "execution_count": 26,
   "id": "45204b1d",
   "metadata": {},
   "outputs": [
    {
     "data": {
      "text/plain": [
       "<AxesSubplot:>"
      ]
     },
     "execution_count": 26,
     "metadata": {},
     "output_type": "execute_result"
    },
    {
     "data": {
      "image/png": "[encoded data removed]",
      "text/plain": [
       "<Figure size 640x480 with 1 Axes>"
      ]
     },
     "metadata": {},
     "output_type": "display_data"
    }
   ],
   "source": [
    "df[~df.days_taken.isna()].days_taken.value_counts(ascending=False).plot()"
   ]
  },
  {
   "cell_type": "markdown",
   "id": "4147609d",
   "metadata": {},
   "source": [
    "It seems majority of the users who subscribe to the paid service do so in the first 35 days. Rest are outliers. So, we will be removing the records that took more than 35 days to subscribe to the paid service."
   ]
  },
  {
   "cell_type": "code",
   "execution_count": 27,
   "id": "e80cacfd",
   "metadata": {},
   "outputs": [
    {
     "name": "stdout",
     "output_type": "stream",
     "text": [
      "(34359, 7) (196, 7) 34163\n"
     ]
    },
    {
     "data": {
      "text/plain": [
       "(34163, 7)"
      ]
     },
     "execution_count": 27,
     "metadata": {},
     "output_type": "execute_result"
    }
   ],
   "source": [
    "removeDf = df[df.days_taken >= '35 days']\n",
    "print(df.shape, removeDf.shape, df.shape[0]-removeDf.shape[0])\n",
    "df = df[~df.student_id.isin(removeDf.student_id)]\n",
    "df.shape"
   ]
  },
  {
   "cell_type": "code",
   "execution_count": 28,
   "id": "1c483e96",
   "metadata": {},
   "outputs": [
    {
     "name": "stdout",
     "output_type": "stream",
     "text": [
      "<class 'pandas.core.frame.DataFrame'>\n",
      "Int64Index: 34163 entries, 0 to 36135\n",
      "Data columns (total 7 columns):\n",
      " #   Column           Non-Null Count  Dtype          \n",
      "---  ------           --------------  -----          \n",
      " 0   student_id       34163 non-null  int64          \n",
      " 1   student_country  34151 non-null  object         \n",
      " 2   date_registered  34163 non-null  datetime64[ns] \n",
      " 3   purchase_id      1068 non-null   float64        \n",
      " 4   purchase_type    1068 non-null   object         \n",
      " 5   date_purchased   1068 non-null   datetime64[ns] \n",
      " 6   days_taken       1068 non-null   timedelta64[ns]\n",
      "dtypes: datetime64[ns](2), float64(1), int64(1), object(2), timedelta64[ns](1)\n",
      "memory usage: 2.1+ MB\n"
     ]
    }
   ],
   "source": [
    "df.info()"
   ]
  },
  {
   "cell_type": "markdown",
   "id": "7b5d88b8",
   "metadata": {},
   "source": [
    "Now we have dataset that is cleaned of duplicate records and is well aligned with our problem statement. Now, we need to add features to this dataframe relating to user engagement between the period from the time the user registered to the time the user purchased the subscription."
   ]
  },
  {
   "cell_type": "markdown",
   "id": "1f3a441f",
   "metadata": {},
   "source": [
    "course_ratings dataframe provides details about the courses user has rated. The maximum rating that user can rate a course is 5. Also, same student might have enrolled for multiple courses and therefore, might have taken more than one course. Course ratings provide vital information whether the user is liking the platform or not which implies it plays an important role in determining how likely the user is to buy the subscription. We will therefore use course ratings and the number of courses that user has rated as features. One feature will be the number of courses the user has rated before purchasing the subscription and another feature would be average rating given by the user. \n",
    "\n",
    "For example, if the user has taken 2 courses before buying subscription and rated those courses as '5 star' and '3 star' respectively, our average rating will be sum_of_the_rating_of_all_courses / num_of_courses_rated i.e. (5+3)/2 = 4"
   ]
  },
  {
   "cell_type": "code",
   "execution_count": 29,
   "id": "98eaf659",
   "metadata": {},
   "outputs": [],
   "source": [
    "# convert date_rated column from string object datatype to datetime datatype\n",
    "course_ratings.date_rated = pd.to_datetime(course_ratings.date_rated)\n",
    "\n",
    "# creating a temporary dataframe for separating student_id and date_purchased columns from our main dataframe\n",
    "tempDf = df[['student_id', 'date_purchased']]\n",
    "course_ratings_1 = course_ratings.merge(tempDf, on='student_id', how='left')\n",
    "\n",
    "# filtering for only those courses that were rated prior to buying the subscription\n",
    "course_ratings_2 = course_ratings_1[course_ratings_1.date_rated <= course_ratings_1.date_purchased ]\n",
    "\n",
    "# finding the number of courses rated by student/user before buying the subscription\n",
    "student_num_courses_rated = course_ratings_2.groupby('student_id').course_id.count().to_dict()\n",
    "\n",
    "# finding the sum of ratings given by the student/user before buying the subscription\n",
    "student_sum_course_rating = course_ratings_2.groupby('student_id').course_rating.sum().to_dict()\n",
    "\n",
    "# finding the average rating given by the student/user before buying the subscription\n",
    "student_avg_course_rating ={key:student_sum_course_rating[key]/value for key,value in student_num_courses_rated.items()}"
   ]
  },
  {
   "cell_type": "markdown",
   "id": "583a9e6f",
   "metadata": {},
   "source": [
    "Now that we have the number of courses rated by user and the average rating given by student/user, we can add this as one of the features for our dataset. However, these features are for only those users who we know ended up buying subscription, but there will also be users who had rated course but didn't buy the subscripton. So, we need to take those students too into consideration. As for those students, we will take the number of courses they rated in the first 35 days. "
   ]
  },
  {
   "cell_type": "code",
   "execution_count": 30,
   "id": "d6c3c9be",
   "metadata": {},
   "outputs": [],
   "source": [
    "# separating student_id, date_purchased and date_registered\n",
    "tempDf1 = df[['student_id', 'date_purchased', 'date_registered']]\n",
    "\n",
    "# filtering for those students that didn't buy subscription\n",
    "students_not_subscribed = tempDf1[tempDf1.date_purchased.isna()].student_id\n",
    "\n",
    "# combining the course ratings dataframe with that of student details dataframe\n",
    "students_not_subscribed_1 = course_ratings[course_ratings['student_id'].isin(students_not_subscribed)].merge(tempDf1, on='student_id', how='left')\n",
    "\n",
    "# converting 35 days into datetime object\n",
    "no_of_days = timedelta(days=35)\n",
    "\n",
    "# selecting records where the user rated the courses before 35 days but didn't subscirbed to paid version\n",
    "course_ratings_3 = students_not_subscribed_1[ students_not_subscribed_1.date_rated < (students_not_subscribed_1.date_registered + no_of_days) ]\n",
    "\n",
    "# finding the number of courses students rated \n",
    "num_rated_courses = course_ratings_3.groupby('student_id').course_id.count().to_dict()\n",
    "\n",
    "# finding the sum of ratings given by students to all courses\n",
    "sum_rated_courses = course_ratings_3.groupby('student_id').course_rating.sum().to_dict()\n",
    "\n",
    "# finding the average rating given by the student/user before buying the subscription\n",
    "avg_course_rating ={key:sum_rated_courses[key]/value for key,value in num_rated_courses.items()}"
   ]
  },
  {
   "cell_type": "markdown",
   "id": "212a1ab3",
   "metadata": {},
   "source": [
    "Now, that we have the total number of courses rated by both users who subscribed and those who didn't subscribe in the first 35 days of registering. Now, we will add those two features i.e. count of courses rated and the average rating given by user to our main dataframe "
   ]
  },
  {
   "cell_type": "code",
   "execution_count": 31,
   "id": "6479a4ab",
   "metadata": {},
   "outputs": [],
   "source": [
    "# combining the course rating details of both type of users - paid and unpaid\n",
    "student_num_courses_rated.update(num_rated_courses)\n",
    "student_avg_course_rating.update(avg_course_rating)\n",
    "\n",
    "# creating temporary dataframe to combine the data\n",
    "tempDf2 = pd.DataFrame( {'student_id': list(student_num_courses_rated.keys()), 'num_rated_courses':list(student_num_courses_rated.values()) })\n",
    "tempDf3 = pd.DataFrame( {'student_id': list(student_avg_course_rating.keys()), 'avg_rated_courses':list(student_avg_course_rating.values()) })\n",
    "tempDf4 = tempDf2.merge(tempDf3, on='student_id', how='outer')\n",
    "df = df.merge(tempDf4, on='student_id', how='left')"
   ]
  },
  {
   "cell_type": "markdown",
   "id": "203c316f",
   "metadata": {},
   "source": [
    "The amount of time spent by user watching tutorials on platform is one of the factors that contributes towards the decision of whether the user will buy subscription or not. 'student_learning' dataframe gives details about the course and the minutes student watched the course for. The student might have enrolled for several courses and therefore, we will consider two features here. One would be the number of minutes user watched the videos and other would be average number of minutes user watched the course videos as the user might have watched several videos of one course but didn't watch much for other and so on. \n",
    "\n",
    "Here too, in order to prevent data leakage, we will consider the content watched by student before he bought the subscription. And for those students who didn't buy the course, we will consider the content watched by the user in the first 35 days. "
   ]
  },
  {
   "cell_type": "code",
   "execution_count": 32,
   "id": "1c6a0807",
   "metadata": {},
   "outputs": [],
   "source": [
    "# tempDf1 = df[['student_id', 'date_purchased', 'date_registered']]\n",
    "student_learning_1 = student_learning.merge(tempDf1, on ='student_id', how='left')\n",
    "\n",
    "# filtering a dataframe where the details of number of minutes student either watched the videos before buying subscription or \n",
    "# the number of minutes watched in the first 35 days of registration but didn't buy the subscription\n",
    "student_learning_2 = student_learning_1[(student_learning_1['date_watched']<=student_learning_1.date_purchased) | ( student_learning_1.date_purchased.isna() & (student_learning_1.date_watched < (student_learning_1.date_registered+no_of_days))) ]\n",
    "\n",
    "# computing the total time spent by student watching videos on the platform\n",
    "total_time_watched = student_learning_2.groupby('student_id').minutes_watched.sum().to_dict()\n",
    "\n",
    "# average time spent by the user watching videos of each course he/she enrolled for\n",
    "avg_course_watched = student_learning_2.groupby('student_id').minutes_watched.sum()/student_learning_2.groupby('student_id').course_id.count()\n",
    "avg_course_watched = avg_course_watched.to_dict()\n",
    "\n",
    "# combinging all the dataframes to add 'avg_course_watched' and 'total_time_watched' features to dataframe\n",
    "tempDf5 = pd.DataFrame({ 'student_id': list(avg_course_watched.keys()), 'avg_course_watched': list(avg_course_watched.values()) })\n",
    "tempDf6 = pd.DataFrame({ 'student_id': list(total_time_watched.keys()),'total_time_watched':list(total_time_watched.values()) })\n",
    "tempDf7 = tempDf5.merge(tempDf6, on='student_id', how='outer')\n",
    "df = df.merge(tempDf7, on='student_id', how='left')"
   ]
  },
  {
   "cell_type": "markdown",
   "id": "dedba5c1",
   "metadata": {},
   "source": [
    "student_engagement dataframe provides details about the number of quizzes, assignments and lessons the student took, which can be used as features for our usecase."
   ]
  },
  {
   "cell_type": "code",
   "execution_count": 33,
   "id": "7319307a",
   "metadata": {},
   "outputs": [
    {
     "name": "stdout",
     "output_type": "stream",
     "text": [
      "<class 'pandas.core.frame.DataFrame'>\n",
      "Int64Index: 65371 entries, 0 to 65370\n",
      "Data columns (total 8 columns):\n",
      " #   Column              Non-Null Count  Dtype         \n",
      "---  ------              --------------  -----         \n",
      " 0   engagement_id       65371 non-null  int64         \n",
      " 1   student_id          65371 non-null  int64         \n",
      " 2   engagement_quizzes  65371 non-null  int64         \n",
      " 3   engagement_exams    65371 non-null  int64         \n",
      " 4   engagement_lessons  65371 non-null  int64         \n",
      " 5   date_engaged        65371 non-null  object        \n",
      " 6   date_purchased      22194 non-null  datetime64[ns]\n",
      " 7   date_registered     49852 non-null  datetime64[ns]\n",
      "dtypes: datetime64[ns](2), int64(5), object(1)\n",
      "memory usage: 4.5+ MB\n"
     ]
    }
   ],
   "source": [
    "tempDf8 = student_engagement.merge(tempDf1, on='student_id', how='left')\n",
    "tempDf8.info()"
   ]
  },
  {
   "cell_type": "markdown",
   "id": "48f7fb2f",
   "metadata": {},
   "source": [
    "It seems there are some students whose registration date is unknown, we will be dropping such students from our dataset as registration date is vital to our use case."
   ]
  },
  {
   "cell_type": "code",
   "execution_count": 34,
   "id": "1a766098",
   "metadata": {},
   "outputs": [],
   "source": [
    "# removing those records where the date_registered is null\n",
    "tempDf8 = tempDf8[~tempDf8.date_registered.isna()]\n",
    "\n",
    "# filtering those records where date engaged is less than date pruchased  and for those with null value for date puchased\n",
    "# we are considering the interactions in first 35 days.\n",
    "tempDf9 = tempDf8[ (tempDf8.date_engaged <= tempDf8.date_purchased) | (tempDf8.date_purchased.isna() & ((tempDf8.date_registered + no_of_days)>tempDf8.date_engaged))]\n",
    "\n",
    "# creating features 'engagement_quizzes', 'engaegment_exams', 'engagement_lessons' \n",
    "tempDf10 = tempDf9.groupby('student_id')[['engagement_quizzes', 'engagement_exams', 'engagement_lessons']].sum().reset_index()\n",
    "\n",
    "# merged the new features with original dataframe\n",
    "df = df.merge(tempDf10, on='student_id', how='left')"
   ]
  },
  {
   "cell_type": "markdown",
   "id": "16b24f45",
   "metadata": {},
   "source": [
    "how well students perform in exams can be one of the motivating factors for students to determine whether they wish to proceed to buy the course of not. student_exams dataframe provides details about the exams students have taken and their correspondign scores. As the students took multiple exams, we will have to create a feature where we can use one value that represents all the exams and the score the student have achieved in them. So, we will take average score of student in the exams as one of the feature."
   ]
  },
  {
   "cell_type": "code",
   "execution_count": 35,
   "id": "13db811a",
   "metadata": {},
   "outputs": [],
   "source": [
    "tempDf11 = student_exams.merge(tempDf1, on='student_id', how='left')\n",
    "\n",
    "tempDf11 = tempDf11[~tempDf11.date_registered.isna()]\n",
    "\n",
    "tempDf12 = tempDf11[ (tempDf11.date_exam_completed <= tempDf11.date_purchased) | (tempDf11.date_purchased.isna() & (tempDf11.date_exam_completed < (tempDf11.date_registered+no_of_days) ))]\n",
    "\n",
    "tempDf13 = pd.DataFrame(tempDf12.groupby('student_id')['exam_result'].sum() / tempDf12.groupby('student_id')['exam_id'].count()).reset_index().rename(columns={'student_id':'student_id',0:'avg_exam_score'})\n",
    "\n",
    "df = df.merge(tempDf13, on='student_id', how='left')"
   ]
  },
  {
   "cell_type": "markdown",
   "id": "fff8b114",
   "metadata": {},
   "source": [
    "In the student_quizzes table we do have information about the different quizzes the student has attempted along with the question and answer_id. In the quiz_info dataframe, we do have question_id and corresponding answer_id along with the result i.e. whether the answer given by user is correct or not. However, we do not have the temporal details i.e. when the user took the test, therefore we cannot use this data as we have restricted our use case to data of only first 35 days or upto user buying paid subscription"
   ]
  },
  {
   "cell_type": "code",
   "execution_count": 36,
   "id": "70dfd488",
   "metadata": {},
   "outputs": [],
   "source": [
    "tempDf14 = student_hub_questions.merge(tempDf1, on='student_id', how='left')\n",
    "\n",
    "tempDf14 = tempDf14[~tempDf14.date_registered.isna()]\n",
    "\n",
    "tempDf15 = tempDf14[ (tempDf14.date_question_asked<tempDf14.date_purchased) | (tempDf14.date_purchased.isna() &(tempDf14.date_question_asked< (tempDf14.date_registered+no_of_days)))]\n",
    "\n",
    "tempDf16 = pd.DataFrame(tempDf15.groupby('student_id').hub_question_id.count()).reset_index().rename(columns={'student_id':'student_id', 'hub_question_id':'no_of_questions'})\n",
    "\n",
    "df = df.merge(tempDf16, on='student_id', how='left')"
   ]
  },
  {
   "cell_type": "code",
   "execution_count": 44,
   "id": "3f1d2b08",
   "metadata": {},
   "outputs": [
    {
     "name": "stdout",
     "output_type": "stream",
     "text": [
      "<class 'pandas.core.frame.DataFrame'>\n",
      "Int64Index: 34163 entries, 0 to 34162\n",
      "Data columns (total 16 columns):\n",
      " #   Column              Non-Null Count  Dtype          \n",
      "---  ------              --------------  -----          \n",
      " 0   student_id          34163 non-null  int64          \n",
      " 1   student_country     34151 non-null  object         \n",
      " 2   date_registered     34163 non-null  datetime64[ns] \n",
      " 3   purchase_id         1068 non-null   float64        \n",
      " 4   purchase_type       1068 non-null   object         \n",
      " 5   date_purchased      1068 non-null   datetime64[ns] \n",
      " 6   days_taken          1068 non-null   timedelta64[ns]\n",
      " 7   num_rated_courses   647 non-null    float64        \n",
      " 8   avg_rated_courses   647 non-null    float64        \n",
      " 9   avg_course_watched  16671 non-null  float64        \n",
      " 10  total_time_watched  16671 non-null  float64        \n",
      " 11  engagement_quizzes  16846 non-null  float64        \n",
      " 12  engagement_exams    16846 non-null  float64        \n",
      " 13  engagement_lessons  16846 non-null  float64        \n",
      " 14  avg_exam_score      2589 non-null   float64        \n",
      " 15  no_of_questions     80 non-null     float64        \n",
      "dtypes: datetime64[ns](2), float64(10), int64(1), object(2), timedelta64[ns](1)\n",
      "memory usage: 4.4+ MB\n"
     ]
    }
   ],
   "source": [
    "df.info()"
   ]
  },
  {
   "cell_type": "markdown",
   "id": "27647a38",
   "metadata": {},
   "source": [
    "This is our final cleaned dataset that we will be using further for our usecase."
   ]
  },
  {
   "cell_type": "code",
   "execution_count": 46,
   "id": "63421e7b",
   "metadata": {},
   "outputs": [],
   "source": [
    "df.to_csv('cleaned_dataframe.csv',index=None)"
   ]
  }
 ],
 "metadata": {
  "kernelspec": {
   "display_name": "Python 3 (ipykernel)",
   "language": "python",
   "name": "python3"
  },
  "language_info": {
   "codemirror_mode": {
    "name": "ipython",
    "version": 3
   },
   "file_extension": ".py",
   "mimetype": "text/x-python",
   "name": "python",
   "nbconvert_exporter": "python",
   "pygments_lexer": "ipython3",
   "version": "3.9.13"
  }
 },
 "nbformat": 4,
 "nbformat_minor": 5
}
